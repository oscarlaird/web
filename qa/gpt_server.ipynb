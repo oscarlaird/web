{
 "cells": [
  {
   "cell_type": "code",
   "execution_count": 1,
   "metadata": {},
   "outputs": [],
   "source": [
    "import dotenv\n",
    "dotenv.load_dotenv()    # Load the environment variables from .env file\n",
    "import openai"
   ]
  },
  {
   "cell_type": "code",
   "execution_count": 3,
   "metadata": {},
   "outputs": [
    {
     "data": {
      "text/plain": [
       "'The meaning of life is a philosophical and metaphysical question related to the significance of living or existence in general. Many different people, cultures, and religions have different beliefs about the purpose and meaning of life. \\n\\nIn many religions, the meaning of life is tied to concepts like serving a higher spiritual power, seeking personal or spiritual development, or pursuing a path of moral or ethical righteousness. \\n\\nIn a secular or non-religious context, many people find meaning in life through the pursuit of personal goals and passions, relationships with others, and the quest for knowledge. \\n\\nExistentialist philosophers often argue that life has no inherent meaning, and it'"
      ]
     },
     "execution_count": 3,
     "metadata": {},
     "output_type": "execute_result"
    }
   ],
   "source": [
    "def ask_gpt4(question):\n",
    "    completion = openai.ChatCompletion.create(\n",
    "        model=\"gpt-4\",\n",
    "        messages=[\n",
    "            {\"role\": \"system\", \"content\": \"You are a reliable investigative researcher using user provided context to answer questions.\"},\n",
    "            {\"role\": \"user\", \"content\": question}\n",
    "        ],\n",
    "        temperature=0.0,\n",
    "        max_tokens=128,\n",
    "    )\n",
    "    return completion.choices[0].message.content\n",
    "    \n",
    "ask_gpt4(\"What is the meaning of life?\")"
   ]
  },
  {
   "cell_type": "code",
   "execution_count": 12,
   "metadata": {},
   "outputs": [
    {
     "name": "stdout",
     "output_type": "stream",
     "text": [
      " * Serving Flask app '__main__'\n",
      " * Debug mode: off\n"
     ]
    },
    {
     "name": "stderr",
     "output_type": "stream",
     "text": [
      "\u001b[31m\u001b[1mWARNING: This is a development server. Do not use it in a production deployment. Use a production WSGI server instead.\u001b[0m\n",
      " * Running on http://localhost:5010\n",
      "\u001b[33mPress CTRL+C to quit\u001b[0m\n",
      "127.0.0.1 - - [19/Nov/2023 02:31:40] \"GET /ask?question=whatisit HTTP/1.1\" 200 -\n"
     ]
    }
   ],
   "source": [
    "# expose over flask\n",
    "\n",
    "import flask\n",
    "import flask_cors\n",
    "\n",
    "app = flask.Flask(__name__)\n",
    "flask_cors.CORS(app)\n",
    "\n",
    "@app.route('/ask', methods=['GET'])\n",
    "def ask():\n",
    "    question = flask.request.args.get('question')\n",
    "    answer = ask_gpt4(question)\n",
    "    return flask.jsonify({'answer': answer})\n",
    "\n",
    "app.run(host=\"localhost\", port=5010)\n",
    "\n",
    "# example query url: http://localhost:5010/ask?question=What%20is%20the%20meaning%20of%20life%3F"
   ]
  }
 ],
 "metadata": {
  "kernelspec": {
   "display_name": "qa-VyzZx4Y9-py3.10",
   "language": "python",
   "name": "python3"
  },
  "language_info": {
   "codemirror_mode": {
    "name": "ipython",
    "version": 3
   },
   "file_extension": ".py",
   "mimetype": "text/x-python",
   "name": "python",
   "nbconvert_exporter": "python",
   "pygments_lexer": "ipython3",
   "version": "3.10.12"
  }
 },
 "nbformat": 4,
 "nbformat_minor": 2
}
