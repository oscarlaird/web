{
 "cells": [
  {
   "cell_type": "code",
   "execution_count": 1,
   "metadata": {},
   "outputs": [
    {
     "name": "stderr",
     "output_type": "stream",
     "text": [
      "/home/oscar/.cache/pypoetry/virtualenvs/steam-games-mWAKNGq7-py3.10/lib/python3.10/site-packages/tqdm/auto.py:21: TqdmWarning: IProgress not found. Please update jupyter and ipywidgets. See https://ipywidgets.readthedocs.io/en/stable/user_install.html\n",
      "  from .autonotebook import tqdm as notebook_tqdm\n",
      "/home/oscar/.cache/pypoetry/virtualenvs/steam-games-mWAKNGq7-py3.10/lib/python3.10/site-packages/torch/cuda/__init__.py:138: UserWarning: CUDA initialization: CUDA unknown error - this may be due to an incorrectly set up environment, e.g. changing env variable CUDA_VISIBLE_DEVICES after program start. Setting the available devices to be zero. (Triggered internally at ../c10/cuda/CUDAFunctions.cpp:108.)\n",
      "  return torch._C._cuda_getDeviceCount() > 0\n"
     ]
    },
    {
     "name": "stdout",
     "output_type": "stream",
     "text": [
      "(1, 384)\n"
     ]
    }
   ],
   "source": [
    "import json\n",
    "from pathlib import Path\n",
    "\n",
    "# import dotenv\n",
    "# dotenv.load_dotenv(\"/home/oscar/nlitp/eva_proof_server/.env\")\n",
    "\n",
    "import sentence_transformers  # dependency for sentence_feature_extractor.py\n",
    "# check that we can use sentence_transformers\n",
    "print(sentence_transformers.SentenceTransformer('all-MiniLM-L6-v2').encode(['hello world']).shape)\n",
    "# import openai  # dependency for chatgpt.py\n",
    "import evadb\n",
    "cursor = evadb.connect(evadb_dir=Path(\"./eva_db\")).cursor()"
   ]
  },
  {
   "cell_type": "code",
   "execution_count": 3,
   "metadata": {},
   "outputs": [
    {
     "data": {
      "text/html": [
       "<div>\n",
       "<style scoped>\n",
       "    .dataframe tbody tr th:only-of-type {\n",
       "        vertical-align: middle;\n",
       "    }\n",
       "\n",
       "    .dataframe tbody tr th {\n",
       "        vertical-align: top;\n",
       "    }\n",
       "\n",
       "    .dataframe thead th {\n",
       "        text-align: right;\n",
       "    }\n",
       "</style>\n",
       "<table border=\"1\" class=\"dataframe\">\n",
       "  <thead>\n",
       "    <tr style=\"text-align: right;\">\n",
       "      <th></th>\n",
       "      <th>features</th>\n",
       "    </tr>\n",
       "  </thead>\n",
       "  <tbody>\n",
       "    <tr>\n",
       "      <th>0</th>\n",
       "      <td>[[-0.03447732, 0.031023178, 0.0067349477, 0.02...</td>\n",
       "    </tr>\n",
       "  </tbody>\n",
       "</table>\n",
       "</div>"
      ],
      "text/plain": [
       "                                            features\n",
       "0  [[-0.03447732, 0.031023178, 0.0067349477, 0.02..."
      ]
     },
     "execution_count": 3,
     "metadata": {},
     "output_type": "execute_result"
    }
   ],
   "source": [
    "# Register the function as embed text\n",
    "cursor.query(\"\"\"\n",
    "DROP FUNCTION IF EXISTS EmbedText\n",
    "\"\"\").df()\n",
    "cursor.query(\"\"\"\n",
    "CREATE FUNCTION EmbedText IMPL './sentence_feature_extractor.py'\n",
    "\"\"\").df()\n",
    "cursor.query(\"\"\"\n",
    "SELECT EmbedText('hello world')\n",
    "\"\"\").df()"
   ]
  },
  {
   "cell_type": "code",
   "execution_count": 49,
   "metadata": {},
   "outputs": [
    {
     "data": {
      "text/html": [
       "<div>\n",
       "<style scoped>\n",
       "    .dataframe tbody tr th:only-of-type {\n",
       "        vertical-align: middle;\n",
       "    }\n",
       "\n",
       "    .dataframe tbody tr th {\n",
       "        vertical-align: top;\n",
       "    }\n",
       "\n",
       "    .dataframe thead th {\n",
       "        text-align: right;\n",
       "    }\n",
       "</style>\n",
       "<table border=\"1\" class=\"dataframe\">\n",
       "  <thead>\n",
       "    <tr style=\"text-align: right;\">\n",
       "      <th></th>\n",
       "    </tr>\n",
       "  </thead>\n",
       "  <tbody>\n",
       "  </tbody>\n",
       "</table>\n",
       "</div>"
      ],
      "text/plain": [
       "Empty DataFrame\n",
       "Columns: []\n",
       "Index: []"
      ]
     },
     "execution_count": 49,
     "metadata": {},
     "output_type": "execute_result"
    }
   ],
   "source": [
    "# add the data to evadb from games.db\n",
    "# we will just copy the data from games.db to evadb\n",
    "# create the games table\n",
    "cursor.query(\"\"\"\n",
    "DROP TABLE IF EXISTS games\n",
    "\"\"\").df()\n",
    "cursor.query(\"\"\"\n",
    "CREATE TABLE games (\n",
    "            name TEXT(0),\n",
    "            img_url TEXT(0),\n",
    "            date TEXT(0),\n",
    "            developer TEXT(0),\n",
    "            full_desc TEXT(0),\n",
    "            price TEXT(0),\n",
    "            url_info TEXT(0)\n",
    "            )\"\"\"\n",
    ").df()\n",
    "cursor.query(\"\"\"\n",
    "SELECT * FROM games\n",
    "\"\"\").df()\n"
   ]
  },
  {
   "cell_type": "code",
   "execution_count": 50,
   "metadata": {},
   "outputs": [
    {
     "name": "stderr",
     "output_type": "stream",
     "text": [
      "1001it [00:29, 33.89it/s]\n"
     ]
    }
   ],
   "source": [
    "\n",
    "# copy the data from games.db to evadb\n",
    "# connect to games.db with sqlite3\n",
    "import sqlite3\n",
    "conn = sqlite3.connect(\"games.db\")\n",
    "c = conn.cursor()\n",
    "# get the data from games.db\n",
    "c.execute(\"SELECT * FROM games\")\n",
    "games = c.fetchall()\n",
    "# insert the data into evadb\n",
    "from tqdm import tqdm   \n",
    "for i, game in tqdm(enumerate(games)):\n",
    "    if i > 1000:\n",
    "        break\n",
    "    game = list(game)\n",
    "    for i in range(len(game)):\n",
    "        game[i] = game[i].replace(\"'\", \"\").replace('\"', '').replace(\";\", \"\").replace(\":\", \"\")#.replace(\"(\", \"\").replace(\")\", \"\")\n",
    "    cursor.query(f\"\"\"\n",
    "    INSERT INTO games (name, img_url, date, developer, full_desc, price, url_info)\n",
    "    VALUES ('{game[0]}', '{game[1]}', '{game[2]}', '{game[3]}', '{game[4]}', '{game[5]}', '{game[6]}')\n",
    "    \"\"\").df()\n",
    "# check that the data is there\n",
    "out = cursor.query(\"\"\"\n",
    "SELECT * FROM games\n",
    "\"\"\").df()"
   ]
  },
  {
   "cell_type": "code",
   "execution_count": 2,
   "metadata": {},
   "outputs": [
    {
     "data": {
      "text/plain": [
       "{'_row_id': 101,\n",
       " 'name': 'Among Us - Mini Crewmate Bundle',\n",
       " 'img_url': 'https//steamcdn-a.akamaihd.net/steam/apps/971996/header.jpg?t=1559936187',\n",
       " 'date': 'Jun 7, 2019',\n",
       " 'developer': 'Innersloth',\n",
       " 'full_desc': 'About This Content  A mini you! A robotic friend? Includes the Mini Crewmate and Robot! (Only one pet can be equipped at a time) Support Among Us servers and Innersloth!',\n",
       " 'price': '299',\n",
       " 'url_info': 'https//store.steampowered.com/app/971996/Among_Us__Mini_Crewmate_Bundle/?snr=1_7_7_230_150_1'}"
      ]
     },
     "execution_count": 2,
     "metadata": {},
     "output_type": "execute_result"
    }
   ],
   "source": [
    "cursor.query(\"\"\"\n",
    "SELECT * FROM games\n",
    "\"\"\").df().iloc[100].to_dict()"
   ]
  },
  {
   "cell_type": "code",
   "execution_count": 55,
   "metadata": {},
   "outputs": [
    {
     "name": "stderr",
     "output_type": "stream",
     "text": [
      "11-18-2023 16:44:18 WARNING[drop_object_executor:drop_object_executor.py:_handle_drop_index:0113] Index game_vector_idx does not exist, therefore cannot be dropped.\n",
      "/home/oscar/.cache/pypoetry/virtualenvs/steam-games-mWAKNGq7-py3.10/lib/python3.10/site-packages/sentence_transformers/SentenceTransformer.py:157: FutureWarning: Series.__getitem__ treating keys as positions is deprecated. In a future version, integer keys will always be treated as labels (consistent with DataFrame behavior). To access a value by position, use `ser.iloc[pos]`\n",
      "  sentences_sorted = [sentences[idx] for idx in length_sorted_idx]\n"
     ]
    },
    {
     "data": {
      "text/html": [
       "<div>\n",
       "<style scoped>\n",
       "    .dataframe tbody tr th:only-of-type {\n",
       "        vertical-align: middle;\n",
       "    }\n",
       "\n",
       "    .dataframe tbody tr th {\n",
       "        vertical-align: top;\n",
       "    }\n",
       "\n",
       "    .dataframe thead th {\n",
       "        text-align: right;\n",
       "    }\n",
       "</style>\n",
       "<table border=\"1\" class=\"dataframe\">\n",
       "  <thead>\n",
       "    <tr style=\"text-align: right;\">\n",
       "      <th></th>\n",
       "      <th>0</th>\n",
       "    </tr>\n",
       "  </thead>\n",
       "  <tbody>\n",
       "    <tr>\n",
       "      <th>0</th>\n",
       "      <td>Index game_vector_idx successfully added to th...</td>\n",
       "    </tr>\n",
       "  </tbody>\n",
       "</table>\n",
       "</div>"
      ],
      "text/plain": [
       "                                                   0\n",
       "0  Index game_vector_idx successfully added to th..."
      ]
     },
     "execution_count": 55,
     "metadata": {},
     "output_type": "execute_result"
    }
   ],
   "source": [
    "# create a vector index using faiss\n",
    "cursor.query(\"\"\"\n",
    "DROP INDEX IF EXISTS game_vector_idx\n",
    "\"\"\").df()\n",
    "# CREATE INDEX [index_name]\n",
    "# ON [table_name] ([function_name]([column_name]))\n",
    "# USING [index_method]\n",
    "cursor.query(\"\"\"\n",
    "CREATE INDEX game_vector_idx\n",
    "ON games (EmbedText(games.full_desc))\n",
    "USING FAISS\n",
    "\"\"\").df()"
   ]
  },
  {
   "cell_type": "code",
   "execution_count": null,
   "metadata": {},
   "outputs": [],
   "source": [
    "# manually "
   ]
  },
  {
   "cell_type": "code",
   "execution_count": 2,
   "metadata": {},
   "outputs": [
    {
     "data": {
      "text/html": [
       "<div>\n",
       "<style scoped>\n",
       "    .dataframe tbody tr th:only-of-type {\n",
       "        vertical-align: middle;\n",
       "    }\n",
       "\n",
       "    .dataframe tbody tr th {\n",
       "        vertical-align: top;\n",
       "    }\n",
       "\n",
       "    .dataframe thead th {\n",
       "        text-align: right;\n",
       "    }\n",
       "</style>\n",
       "<table border=\"1\" class=\"dataframe\">\n",
       "  <thead>\n",
       "    <tr style=\"text-align: right;\">\n",
       "      <th></th>\n",
       "      <th>_row_id</th>\n",
       "      <th>name</th>\n",
       "      <th>img_url</th>\n",
       "      <th>date</th>\n",
       "      <th>developer</th>\n",
       "      <th>full_desc</th>\n",
       "      <th>price</th>\n",
       "      <th>url_info</th>\n",
       "    </tr>\n",
       "  </thead>\n",
       "  <tbody>\n",
       "    <tr>\n",
       "      <th>0</th>\n",
       "      <td>538</td>\n",
       "      <td>Pistol Whip</td>\n",
       "      <td>https//steamcdn-a.akamaihd.net/steam/apps/1079...</td>\n",
       "      <td>Nov 7, 2019</td>\n",
       "      <td>Cloudhead Games ltd.</td>\n",
       "      <td>About This Game Inspired by God-mode action mo...</td>\n",
       "      <td>249</td>\n",
       "      <td>https//store.steampowered.com/app/1079800/Pist...</td>\n",
       "    </tr>\n",
       "    <tr>\n",
       "      <th>1</th>\n",
       "      <td>464</td>\n",
       "      <td>Combat Mission Shock Force 2</td>\n",
       "      <td>https//steamcdn-a.akamaihd.net/steam/apps/1369...</td>\n",
       "      <td>Aug 31, 2020</td>\n",
       "      <td>Battlefront</td>\n",
       "      <td>About This Game The latest title in the famous...</td>\n",
       "      <td>599</td>\n",
       "      <td>https//store.steampowered.com/app/1369370/Comb...</td>\n",
       "    </tr>\n",
       "    <tr>\n",
       "      <th>2</th>\n",
       "      <td>388</td>\n",
       "      <td>Zero Caliber VR</td>\n",
       "      <td>https//steamcdn-a.akamaihd.net/steam/apps/8772...</td>\n",
       "      <td>Nov 9, 2018</td>\n",
       "      <td>XREAL Games</td>\n",
       "      <td>About This Game   ABOUT THIS GAMEZero Caliber ...</td>\n",
       "      <td>249</td>\n",
       "      <td>https//store.steampowered.com/app/877200/Zero_...</td>\n",
       "    </tr>\n",
       "    <tr>\n",
       "      <th>3</th>\n",
       "      <td>951</td>\n",
       "      <td>Need for Speed™ Most Wanted</td>\n",
       "      <td>https//steamcdn-a.akamaihd.net/steam/apps/1262...</td>\n",
       "      <td>Oct 30, 2012</td>\n",
       "      <td>Criterion Games</td>\n",
       "      <td>About This Game The open-world action in Need ...</td>\n",
       "      <td>499</td>\n",
       "      <td>https//store.steampowered.com/app/1262560/Need...</td>\n",
       "    </tr>\n",
       "    <tr>\n",
       "      <th>4</th>\n",
       "      <td>857</td>\n",
       "      <td>Need for Speed™ Payback</td>\n",
       "      <td>https//steamcdn-a.akamaihd.net/steam/apps/1262...</td>\n",
       "      <td>Nov 6, 2017</td>\n",
       "      <td>Ghost Games</td>\n",
       "      <td>About This Game Set in the underworld of Fortu...</td>\n",
       "      <td>499</td>\n",
       "      <td>https//store.steampowered.com/app/1262580/Need...</td>\n",
       "    </tr>\n",
       "  </tbody>\n",
       "</table>\n",
       "</div>"
      ],
      "text/plain": [
       "   _row_id                          name  \\\n",
       "0      538                   Pistol Whip   \n",
       "1      464  Combat Mission Shock Force 2   \n",
       "2      388               Zero Caliber VR   \n",
       "3      951   Need for Speed™ Most Wanted   \n",
       "4      857       Need for Speed™ Payback   \n",
       "\n",
       "                                             img_url          date  \\\n",
       "0  https//steamcdn-a.akamaihd.net/steam/apps/1079...   Nov 7, 2019   \n",
       "1  https//steamcdn-a.akamaihd.net/steam/apps/1369...  Aug 31, 2020   \n",
       "2  https//steamcdn-a.akamaihd.net/steam/apps/8772...   Nov 9, 2018   \n",
       "3  https//steamcdn-a.akamaihd.net/steam/apps/1262...  Oct 30, 2012   \n",
       "4  https//steamcdn-a.akamaihd.net/steam/apps/1262...   Nov 6, 2017   \n",
       "\n",
       "              developer                                          full_desc  \\\n",
       "0  Cloudhead Games ltd.  About This Game Inspired by God-mode action mo...   \n",
       "1           Battlefront  About This Game The latest title in the famous...   \n",
       "2           XREAL Games  About This Game   ABOUT THIS GAMEZero Caliber ...   \n",
       "3       Criterion Games  About This Game The open-world action in Need ...   \n",
       "4           Ghost Games  About This Game Set in the underworld of Fortu...   \n",
       "\n",
       "  price                                           url_info  \n",
       "0   249  https//store.steampowered.com/app/1079800/Pist...  \n",
       "1   599  https//store.steampowered.com/app/1369370/Comb...  \n",
       "2   249  https//store.steampowered.com/app/877200/Zero_...  \n",
       "3   499  https//store.steampowered.com/app/1262560/Need...  \n",
       "4   499  https//store.steampowered.com/app/1262580/Need...  "
      ]
     },
     "execution_count": 2,
     "metadata": {},
     "output_type": "execute_result"
    }
   ],
   "source": [
    "test_query = \"fast-paced action game\"\n",
    "cursor.query(f\"\"\"\n",
    "SELECT * FROM games ORDER BY Similarity(EmbedText('{test_query}'), EmbedText(full_desc)) LIMIT 05;\n",
    "\"\"\").df()"
   ]
  },
  {
   "cell_type": "code",
   "execution_count": 2,
   "metadata": {},
   "outputs": [
    {
     "name": "stdout",
     "output_type": "stream",
     "text": [
      " * Serving Flask app '__main__'\n",
      " * Debug mode: off\n"
     ]
    },
    {
     "name": "stderr",
     "output_type": "stream",
     "text": [
      "\u001b[31m\u001b[1mWARNING: This is a development server. Do not use it in a production deployment. Use a production WSGI server instead.\u001b[0m\n",
      " * Running on http://localhost:5000\n",
      "\u001b[33mPress CTRL+C to quit\u001b[0m\n",
      "127.0.0.1 - - [30/Nov/2023 16:19:07] \"GET /get_similar_games?query=vision%20and%20robotics HTTP/1.1\" 200 -\n",
      "127.0.0.1 - - [30/Nov/2023 16:19:17] \"GET /get_similar_games?query=robotics HTTP/1.1\" 200 -\n",
      "127.0.0.1 - - [30/Nov/2023 16:25:27] \"GET /get_similar_games?query=big%20data%20analysis HTTP/1.1\" 200 -\n",
      "127.0.0.1 - - [30/Nov/2023 16:25:32] \"GET /get_similar_games?query=robots HTTP/1.1\" 200 -\n",
      "127.0.0.1 - - [30/Nov/2023 16:25:40] \"GET /get_similar_games?query=About%20This%20Game%20War%20is%20raging,%20pilot!%20Are%20you%20ready%20for%20surprise%20attacks,%20intricate%20tactical%20maneuvers%20and%20the%20many%20sneaky%20tricks%20your%20rivals%20have%20in%20store%20for%20you?%20Destroy%20enemy%20robots,%20capture%20all%20the%20beacons,%20and%20upgrade%20your%20weapons%20to%20increase%20your%20battle%20robots%20combat%20strength,%20speed%20and%20durability.%20Prove%20yourself%20in%20each%20map%20and%20use%20different%20strategies%20and%20tactics%20to%20emerge%20victorious%20in%20battle.The%20renowned%20iOS%20and%20Android%20hit%20is%20coming%20to%20Steam!%20Fight%20other%20Pilots%20from%20all%20over%20the%20world%20and%20join%20millions%20of%20existing%20players!FEATURESTactical%206v6%20PVP45%20battle%20robots%20with%20different%20strengthsover%2050%20weapon%20types,%20including%20ballistic%20missiles,%20energy%20and%20plasma%20guns.%20What%20will%20you%20choose?12%20Maps%20to%20battle%20on!numerous%20possible%20combinations%20of%20robots%20and%20weapons.%20Create%20a%20war%20machine%20to%20fit%20your%20own%20playing%20stylecreate%20your%20own%20clan%20and%20lead%20it%20to%20glorious%20victoriesjoin%20epic%20PvP%20battles%20against%20rivals%20from%20all%20over%20the%20worldcomplete%20military%20tasks%20for%20bonuses%20and%20earn%20the%20title%20Best%20Pilot.Onward,%20soldier!%20Victory%20is%20yours! HTTP/1.1\" 200 -\n",
      "127.0.0.1 - - [30/Nov/2023 16:25:47] \"GET /get_similar_games?query=About%20This%20Game%20DEPLOY%20YOUR%20FORCES%20AND%20GET%20PERSONALPlay%20as%20a%20commander%20deciding%20your%20army%20configuration%20and%20tactical%20deployment%20on%20the%20field%20on%20massive%20battles.%20But%20also%20experience%20first%20line%20action%20instantly%20by%20taking%20control%20of%20individual%20units%20on%20the%20fly,%20from%20tanks%20or%20planes%20to%20snipers%20and%20more.EVERY%20BATTLE%20IS%20UNIQUE.From%20infantry%20to%20aircraft,%20super-secret%20projects%20or%20tanks,%20LOTS%20of%20tanks%20there%20are%20over%20200%20different%20units%20at%20your%20disposal,%20seriously%20-%20check%20them%20out!You%20wont%20run%20out%20of%20maps%20either.%20With%20more%20than%2050%20unique%20maps%20you%20will%20never%20know%20if%20your%20next%20battle%20is%20going%20to%20be%20deep%20in%20the%20Sahara%20Desert,%20in%20the%20green%20fields%20of%20Europe%20or%20in%20the%20snowy%20plains%20of%20Russian%20Taiga.DESTROY%20EVERYTHING.Large%20maps%20carefully%20crafted%20to%20fit%20infantry,%20motorized%20and%20airborne%20action%20that%20include%20deformable%20terrain%20and%20gradual%20destruction%20of%20buildings%20and%20landmarks.%20Shape%20your%20battlefield%20with%20never%20ending%20artillery%20fire!%20Blow%20up%20vehicles,%20bring%20down%20buildings,%20flatten%20forests%20Its%20total%20physics-driven%20destruction.CAMPAIGN%20MODEChange%20WWII%20history!%20Choose%20a%20faction%20and%20take%20part%20in%20countless%20battles%20to%20decide%20the%20fate%20of%20Europe!%20You%20will%20engage%20in%20different%20missions%20through%20your%20campaign%20Deathmatch.%20Fight%20to%20the%20last%20man%20standing.%20Kill%20VIP.%20Kill%20all%20the%20specified%20enemy%20units%20within%20a%20limited%20time%20%20Protect%20VIP.%20Protect%20a%20specified%20group%20of%20ally%20units%20for%20a%20certain%20time.%20%20Wave%20defense.%20Defend%20a%20map%20against%20waves%20of%20incoming%20enemies.SANDBOX%20MODEDo%20whatever%20you%20want,%20think%20of%20most%20ridiculous%20scenarios%20and%20recreate%20them%20in%20sandbox%20mode.%20The%20only%20thing%20limiting%20you%20here%20is%20your%20imagination%20and%20CPU%20)%20SHADOW%20MODEFace%20your%20worst%20enemy,%20the%20one%20that%20knows%20you%20best%20yourself!%20A%20survival%20mode%20where%20you%20face%20your%20victorious%20armies%20from%20previous%20battles.%20How%20far%20you%20can%20get?%20SECRET%20WEAPONS%20&%20SPECIAL%20TACTICS%20UNITSWe%20are%20not%20even%20sure%20you%20should%20be%20reading%20this%20Do%20we%20have%20trained%20animals,%20nuclear%20bombs,%20paratrooper%20commandos,%20flying%20bombs,%20gliding%20tanks,%20time%20portals%20and%20more%20dont%20be%20ridiculous!%20But%20check%20our%20wishlist%20campaign%20section... HTTP/1.1\" 200 -\n",
      "127.0.0.1 - - [30/Nov/2023 16:59:28] \"GET /get_similar_games?query=undefined HTTP/1.1\" 200 -\n",
      "127.0.0.1 - - [30/Nov/2023 17:25:16] \"GET /get_similar_games?query=undefined HTTP/1.1\" 200 -\n",
      "127.0.0.1 - - [30/Nov/2023 17:35:09] \"GET /get_similar_games?query=big%20data%20analytics HTTP/1.1\" 200 -\n",
      "127.0.0.1 - - [30/Nov/2023 17:51:58] \"GET /get_similar_games?query=machine%20learning HTTP/1.1\" 200 -\n",
      "127.0.0.1 - - [30/Nov/2023 17:52:51] \"GET /get_similar_games?query=action%20video%20games HTTP/1.1\" 200 -\n",
      "127.0.0.1 - - [30/Nov/2023 17:52:58] \"GET /get_similar_games?query=About%20This%20Game%20%20%20ABOUT%20THIS%20GAMEZero%20Caliber%20VR%20is%20a%20first-person%20tactical%20shooter%20developed%20by%20XREAL%20Games%20exclusively%20for%20premium%20Virtual%20Reality%20headsets.%20The%20story%20brings%20the%20player%20to%20a%20dystopian%20United%20States%20in%20the%20not%20too%20distant%20future%20where%20physics-based%20interaction%20combined%20with%20hyper%20realistic%20weapon%20handling%20and%20stunning%20graphics%20will%20make%20you%20feel%20like%20youre%20physically%20part%20of%20the%20action.%20Fight%20either%20alone,%20or%20with%20your%20friends%20throughout%20the%20whole%20campaign,%20which%20is%20fully%20playable%20in%20Co-Op.%20Action-oriented%20story,%20gripping%20gunfights,%20realistic%20weapons%20with%20an%20on-the-fly%20swappable%20attachment%20system.%20Immersion%20like%20youve%20never%20felt%20before%20in%20a%20VR%20military%20shooter!%20%20Available%20for%20Arcades%20on%20SpringboardVR%20REALISTIC%20COMBAT%20SYSTEM%20-%20MOVE%20YOUR%20BODY%20TO%20FIGHT%20AND%20FIND%20COVERHandle,%20aim%20and%20reload%20your%20weapons%20with%20real-life%20movements!%20We%20modeled%20the%20in-game%20weapons%20based%20on%20their%20real-life%20counterparts%20paying%20extreme%20attention%20to%20detail.%20Each%20weapon%20has%20its%20unique%20reloading%20method%20that%20you%20have%20to%20learn%20and%20practice%20to%20fully%20master%20them.%20If%20you%20fancy%20explosions,%20just%20grab%20a%20grenade%20and%20throw%20it%20at%20the%20enemy.%20After%20you%20pulled%20the%20pin%20of%20course.Stay%20in%20the%20open%20for%20too%20long%20and%20youre%20dead.%20Try%20to%20find%20cover%20instead,%20duck,%20crouch,%20sneak,%20peek%20around%20a%20corner,%20clear%20obstacles%20with%20real-life%20movements.%20Military%20combat%20isnt%20all%20about%20shooting.%20Being%20aware%20of%20your%20surroundings,%20the%20terrain,%20and%20working%20together%20with%20your%20squadmates%20are%20all%20part%20of%20a%20successful%20mission.%20Dont%20let%20your%20fellow%20soldiers%20down!REALISTIC%20WEAPONS%20-%20CUSTOMIZE%20YOUR%20FAVOURITE%20GUNEveryone%20has%20a%20unique%20playstyle.%20Is%20accuracy%20your%20thing?%20Put%20a%20laser%20sight%20on%20your%20assault%20rifle%20and%20take%20accurate%20shots%20in%20semi-automatic%20mode,%20or%20just%20grab%20a%20sniper%20rifle.%20Are%20you%20more%20of%20a%20shoot%20first,%20ask%20later%20type%20of%20person?%20Take%20a%20shotgun,%20or%20dual%20wield%20your%20machine%20guns%20in%20fully%20automatic%20firing%20mode.%20Be%20careful%20though,%20recoil%20can%20make%20your%20job%20really%20difficult!%20Combine%20your%20favourite%20gun%20with%20your%20favourite%20attachments%20on-the-fly%20to%20find%20out%20which%20variation%20suits%20you%20the%20most!THE%20STORY%20-%20DIVE%20INTO%20AN%20ENGAGING%20DYSTOPIAN%20ADVENTURE%20IN%20THE%20NOT%20TOO%20DISTANT%20FUTURE%20Water%20is%20life.%20Someone%20shouldve%20made%20that%20clear%20before%20humanity%20started%20poisoning%20Earth%20with%20microplastics.%20Now%20water%20is%20death.%20People%20are%20fighting%20for%20drinkable%20water,%20for%20survival.The%20military%20tried%20their%20best%20to%20keep%20order,%20but%20inevitably%20they%20got%20overwhelmed.%20Thats%20when%20mercenaries%20appeared..%20then%20entire%20private%20armies..%20and%20then%20when%20hope%20started%20to%20fade%20away%20came%20the%20religious%20cults.%20The%20most%20fearsome%20of%20all%20is%20a%20secretive%20organization%20worshipping%20Tlaloc,%20the%20aztec%20God%20of%20rain.%20The%20Tlalokii,%20as%20they%20call%20themselves.%20Their%20motto?%20Join%20us%20or%20perish.%20What%20is%20even%20worse,%20they%20know%20something%20that%20can%20change%20the%20fate%20of%20humanity.Be%20part%20of%20this%20action-packed,%20story-driven%20VR%20adventure%20where%20you%20fight%20alongside%20your%20fellow%20soldiers%20trying%20to%20keep%20order%20or%20whats%20left%20of%20it%20anyway.STUNNING%20GRAPHICSWe%20place%20realism%20above%20anything%20else.%20Graphics%20and%20ambiance%20are%20crucial%20parts%20of%20this,%20thats%20why%20we%20took%20extreme%20care%20in%20audio%20and%20visual%20design.%20Explorable%20open%20environment,%20stunning%20graphics,%20background%20noises,%20realistic%20weapon%20sound%20effects.%20A%20constantly%20developing%20military%20VR%20FPS%20experience%20that%20will%20surely%20make%20you%20forget%20that%20you%20are%20in%20a%20video%20game! HTTP/1.1\" 200 -\n",
      "127.0.0.1 - - [30/Nov/2023 17:53:00] \"GET /get_similar_games?query=About%20This%20Game%20Do%20you%20like%20hotdogs?%20How%20about%20horseshoes?%20Hand%20grenades?%20(everyone%20likes%20hand%20grenades)%20Anyway,%20weve%20got%20all%20that,%20and%20guns.%20So%20if%20you%20like%20cooking,%20lawn%20games,%20and%20ordnance,%20this%20is%20the%20VR%20sandbox%20game%20for%20you.Hot%20dogs,%20Horseshoes%20and%20Hand%20Grenades%20is%20a%20lazy%20Sunday%20trip%20over%20to%20your%20friends%20house%20if%20your%20friend%20was%20a%20retired%20gun-nut%20with%20a%20warehouse%20full%20of%20toys,%20a%20few%20irritating%20robot%20pets,%20and%20a%20bizarre%20obsession%20with%20meat.%20Head%20on%20over%20to%20the%20firing%20range%20and%20learn%20to%20operate%20an%20arsenal%20full%20of%20firearms.%20Customize%20your%20perfect%20preposterous%20tacti-cool%20arsenal.%20Compete%20in%20structured%20challenges%20with%20global%20leaderboards.%20Blast%20apart%20meaty%20bots%20and%20then%20chill%20out%20on%20the%20range%20setting%20off%20fireworks.%20Or%20have%20some%20friends%20over%20and%20take%20turns%20throwing%20everything%20from%20horseshoes%20to%20explosives%20while%20making%20an%20ass%20of%20yourself!%20H3VR(for%20short),%20is%20the%20heaping%20pile%20of%20our%20mad%20obsessive%20VR%20experiments.%20This%20is%20very%20much%20an%20impressionistically%20developed%20experience,%20so%20expect%20it%20to%20mutate,%20expand,%20contract,%20somersault,%20and%20occasionally%20explode%20along%20the%20way%20to%20final%20release.Key%20FeaturesRoomscale%20VR%20Experience%20designed%20for%20the%20HTC%20Vive.Games%20and%20experiments%20across%20various%20genres%20and%20degrees%20of%20structure.Multiple%20shooting%20and%20demolitions%20ranges%20from%20realist%20to%20fantastical.Timed%20challenges%20with%20global%20leaderboards.Over%20250!!!%20accurate%20simulations%20of%20historical,%20modern%20and%20futuristic%20weapons.Mini-games%20and%20challenges%20that%20are%20great%20for%20Hot-Headset%20play%20with%20friends!A%20surreal%20irreverent%20vision%20of%20the%20future%20United%20States%20of%20Murica.And%20whatever%20other%20madness%20we%20see%20fit%20to%20add! HTTP/1.1\" 200 -\n",
      "127.0.0.1 - - [30/Nov/2023 17:53:00] \"GET /get_similar_games?query=About%20This%20Game%20Do%20you%20like%20hotdogs?%20How%20about%20horseshoes?%20Hand%20grenades?%20(everyone%20likes%20hand%20grenades)%20Anyway,%20weve%20got%20all%20that,%20and%20guns.%20So%20if%20you%20like%20cooking,%20lawn%20games,%20and%20ordnance,%20this%20is%20the%20VR%20sandbox%20game%20for%20you.Hot%20dogs,%20Horseshoes%20and%20Hand%20Grenades%20is%20a%20lazy%20Sunday%20trip%20over%20to%20your%20friends%20house%20if%20your%20friend%20was%20a%20retired%20gun-nut%20with%20a%20warehouse%20full%20of%20toys,%20a%20few%20irritating%20robot%20pets,%20and%20a%20bizarre%20obsession%20with%20meat.%20Head%20on%20over%20to%20the%20firing%20range%20and%20learn%20to%20operate%20an%20arsenal%20full%20of%20firearms.%20Customize%20your%20perfect%20preposterous%20tacti-cool%20arsenal.%20Compete%20in%20structured%20challenges%20with%20global%20leaderboards.%20Blast%20apart%20meaty%20bots%20and%20then%20chill%20out%20on%20the%20range%20setting%20off%20fireworks.%20Or%20have%20some%20friends%20over%20and%20take%20turns%20throwing%20everything%20from%20horseshoes%20to%20explosives%20while%20making%20an%20ass%20of%20yourself!%20H3VR(for%20short),%20is%20the%20heaping%20pile%20of%20our%20mad%20obsessive%20VR%20experiments.%20This%20is%20very%20much%20an%20impressionistically%20developed%20experience,%20so%20expect%20it%20to%20mutate,%20expand,%20contract,%20somersault,%20and%20occasionally%20explode%20along%20the%20way%20to%20final%20release.Key%20FeaturesRoomscale%20VR%20Experience%20designed%20for%20the%20HTC%20Vive.Games%20and%20experiments%20across%20various%20genres%20and%20degrees%20of%20structure.Multiple%20shooting%20and%20demolitions%20ranges%20from%20realist%20to%20fantastical.Timed%20challenges%20with%20global%20leaderboards.Over%20250!!!%20accurate%20simulations%20of%20historical,%20modern%20and%20futuristic%20weapons.Mini-games%20and%20challenges%20that%20are%20great%20for%20Hot-Headset%20play%20with%20friends!A%20surreal%20irreverent%20vision%20of%20the%20future%20United%20States%20of%20Murica.And%20whatever%20other%20madness%20we%20see%20fit%20to%20add! HTTP/1.1\" 200 -\n",
      "127.0.0.1 - - [30/Nov/2023 17:53:04] \"GET /get_similar_games?query=About%20This%20Game%20A%20tongue-in-cheek%20virtual%20reality%20experience%20for%20HTC%20Vive%20and%20Oculus%20Rift%20+%20Touch.%20In%20a%20world%20where%20robots%20have%20replaced%20all%20human%20jobs,%20step%20into%20the%20Job%20Simulator%20to%20learn%20what%20it%20was%20like%20to%20job.Key%20Features!Throw%20a%20stapler%20at%20your%20boss!Learn%20to%20job%20in%20four%20not-so%20historically%20accurate%20representations%20of%20work%20life%20before%20society%20was%20automated%20by%20robots!Use%20your%20hands%20to%20stack,%20manipulate,%20throw,%20and%20smash%20physics%20objects%20in%20an%20inexplicably%20satisfying%20way!Aggressively%20chug%20coffee%20and%20eat%20questionable%20food%20from%20the%20trash!Use%20the%20confluence%20of%20decades%20of%20VR%20research%20to%20accurately%20track%20your%20every%20movement%20to%20sub-millimeter%20precision%20so%20that%20you%20eat%20VR%20donuts,%20of%20course!Able%20to%20juggle%20tomatoes%20in%20real%20life?%20Do%20it%20in%20VR!%20Unable%20to%20juggle?%20Theres%20no%20cleanup%20required%20in%20VR!Gain%20valuable%20life%20experience%20by%20firing%20new%20employees,%20serving%20slushy%20treats,%20brewing%20English%20tea,%20and%20ripping%20apart%20car%20engines!Have%20a%20comfortable%20VR%20experience%20where%20vomiting%20is%20solely%20a%20gameplay%20mechanic,%20not%20a%20side-effect!%20Work%20the%20never-ending%20night%20shift%20with%20Infinite%20Overtime%20mode!A%20VR-Only%20game!Communicate%20with%20the%20Owlchemy%20team%20over%20Twitter%20at%20@OwlchemyLabs HTTP/1.1\" 200 -\n",
      "127.0.0.1 - - [30/Nov/2023 17:53:35] \"GET /get_similar_games?query=undefined HTTP/1.1\" 200 -\n",
      "127.0.0.1 - - [30/Nov/2023 17:53:45] \"GET /get_similar_games?query=action%20games HTTP/1.1\" 200 -\n",
      "127.0.0.1 - - [30/Nov/2023 17:53:50] \"GET /get_similar_games?query=About%20This%20Game%20The%20biggest%20and%20fourthiest%20addition%20to%20this%20storied%20party%20game%20franchise%20features%20not%20five%20but%20FIVE%20AND%20A%20HALF%20crowd-slaying%20games!Fibbage%203%20(2-8%20players)The%20blanking%20fun%20sequel.%20Play%20all-new%20question%20types%20and%20the%20game%20mode%20Fibbage%20Enough%20About%20You%20(3-8%20players).%20Guess%20the%20weird%20facts%20about%20your%20friends.Survive%20the%20Internet%20(3-8%20players)The%20web-based%20frame%20game.%20Twist%20your%20friends%20online%20comments%20in%20hilarious%20ways.Monster%20Seeking%20Monster%20(3-7%20players)The%20spooky%20date-a-thon%20game.%20Message%20and%20date%20fellow%20monsters%20with%20special%20powers.Bracketeering%20(3-16%20players)The%20deranged%20debate%20match%20game.%20Place%20smart%20bets%20on%20stupid%20arguments.Civic%20Doodle%20(3-8%20players)The%20one-up%20art%20game.%20Compete%20to%20improve%20the%20town%20murals.Play%20using%20your%20phones,%20tablets%20or%20computers.%20No%20extra%20controllers%20needed!Plus%20EVEN%20MORE%20features%20just%20for%20streamers!NOTE%20The%20Jackbox%20Party%20Pack%204%20is%20in%20English%20only.NOTE%20The%20game%20is%20local%20multiplayer%20but%20can%20be%20enjoyed%20over%20streams%20with%20remote%20players. HTTP/1.1\" 200 -\n",
      "127.0.0.1 - - [30/Nov/2023 17:53:58] \"GET /get_similar_games?query=undefined HTTP/1.1\" 200 -\n",
      "127.0.0.1 - - [30/Nov/2023 17:54:06] \"GET /get_similar_games?query=action%20game HTTP/1.1\" 200 -\n",
      "127.0.0.1 - - [30/Nov/2023 17:54:25] \"GET /get_similar_games?query=About%20This%20Game%20Pummel%20Party%20is%20a%204-8%20player%20online%20and%20local-multiplayer%20party%20game.%20Pummel%20friends%20or%20AI%20using%20a%20wide%20array%20of%20absurd%20items%20in%20the%20board%20mode%20and%20compete%20to%20destroy%20friendships%20in%20the%20entertaining%20collection%20of%20minigames.ONLINE%20AND%20LOCAL%20MULTIPLAYERPlay%20how%20you%20want.%20Pummel%20Party%20allows%201%20to%208%20players%20to%20compete%20both%20online%20or%20locally%20on%20the%20same%20screen.%20Whether%20its%20online,%20or%20in%20person,%20its%20all%20the%20same%20friendship%20ruining%20fun.BOARD%20MODEThere%20can%20only%20be%20one%20winner%20here,%20and%20you%20know%20it%20has%20to%20be%20you!%20Battle%20through%20hazardous%20terrain%20to%20acquire%20an%20arsenal%20of%20weapons%20and%20items%20and%20employ%20them%20however%20you%20can%20to%20make%20sure%20that%20you%20reign%20victorious%20over%20your%20friends.ITEMSIts%20all%20out%20war!%20Use%20an%20array%20of%20absurd%20weapons%20and%20objects%20to%20claw%20your%20way%20to%20victory.%20From%20the%20simple%20Punching%20Glove%20to%20the%20ridiculous%20Remote%20Controlled%20Eggplant%20the%20items%20in%20Pummel%20Party%20will%20lead%20to%20many%20funny%20and%20rage%20inducing%20moments.%20Its%20never%20been%20easier%20or%20more%20satisfying%20to%20crush%20your%20friends%20aspirations%20of%20winning!MINIGAMESFrom%20simple%20nostalgic%20fun%20to%20unique%20and%20evolutionary%20Pummel%20Party%20contains%20a%20wide%20array%20of%20exciting%20minigames.%20Knock%20your%20friends%20in%20to%20the%20abyss%20in%20Snowy%20Spin,%20dig%20three%20dimensionally%20in%20Sandy%20Search%20to%20be%20the%20first%20to%20find%20the%20treasure%20and%20make%20sure%20youre%20not%20holding%20the%20bomb%20when%20it%20goes%20off%20in%20Explosive%20Exchange.MINIGAME%20MODEJust%20want%20to%20jump%20in%20to%20the%20action?%20Pummel%20Party%20includes%20a%20minigame%20mode%20so%20that%20you%20can%20get%20straight%20to%20the%20games!BOTSAlready%20destroyed%20all%20your%20friendships%20or%20just%20need%20to%20fill%20out%20your%20roster?%20Pummel%20Party%20includes%20full%20bot%20integration%20meaning%20you%20can%20still%20play%20or%20practice%20Pummel%20Party%20with%20any%20number%20of%20real%20players. HTTP/1.1\" 200 -\n",
      "127.0.0.1 - - [30/Nov/2023 17:54:31] \"GET /get_similar_games?query=About%20This%20Game%20The%20biggest%20and%20fourthiest%20addition%20to%20this%20storied%20party%20game%20franchise%20features%20not%20five%20but%20FIVE%20AND%20A%20HALF%20crowd-slaying%20games!Fibbage%203%20(2-8%20players)The%20blanking%20fun%20sequel.%20Play%20all-new%20question%20types%20and%20the%20game%20mode%20Fibbage%20Enough%20About%20You%20(3-8%20players).%20Guess%20the%20weird%20facts%20about%20your%20friends.Survive%20the%20Internet%20(3-8%20players)The%20web-based%20frame%20game.%20Twist%20your%20friends%20online%20comments%20in%20hilarious%20ways.Monster%20Seeking%20Monster%20(3-7%20players)The%20spooky%20date-a-thon%20game.%20Message%20and%20date%20fellow%20monsters%20with%20special%20powers.Bracketeering%20(3-16%20players)The%20deranged%20debate%20match%20game.%20Place%20smart%20bets%20on%20stupid%20arguments.Civic%20Doodle%20(3-8%20players)The%20one-up%20art%20game.%20Compete%20to%20improve%20the%20town%20murals.Play%20using%20your%20phones,%20tablets%20or%20computers.%20No%20extra%20controllers%20needed!Plus%20EVEN%20MORE%20features%20just%20for%20streamers!NOTE%20The%20Jackbox%20Party%20Pack%204%20is%20in%20English%20only.NOTE%20The%20game%20is%20local%20multiplayer%20but%20can%20be%20enjoyed%20over%20streams%20with%20remote%20players. HTTP/1.1\" 200 -\n"
     ]
    }
   ],
   "source": [
    "# create a simple flask endpoint to serve the five most similar games\n",
    "from flask import Flask, request, jsonify\n",
    "app = Flask(__name__)\n",
    "\n",
    "# allow cross origin requests from any domain\n",
    "from flask_cors import CORS\n",
    "CORS(app)\n",
    "\n",
    "@app.route('/get_similar_games', methods=['GET'])\n",
    "def get_similar_games():\n",
    "    query = request.args.get('query')\n",
    "    out = cursor.query(f\"\"\"\n",
    "    SELECT * FROM games ORDER BY Similarity(EmbedText('{query}'), EmbedText(full_desc)) LIMIT 15;\n",
    "    \"\"\").df()\n",
    "    out_recs = out.to_dict(orient=\"records\")\n",
    "    # replace every url with https with https: (BC EVADB) doesn't let me insert w/ ?\n",
    "    for rec in out_recs:\n",
    "        rec[\"img_url\"] = rec[\"img_url\"].replace(\"https\", \"https:\")\n",
    "        rec[\"url_info\"] = rec[\"url_info\"].replace(\"https\", \"https:\")\n",
    "    return jsonify(out_recs)\n",
    "\n",
    "app.run(host=\"localhost\", port=5000)\n",
    "\n",
    "# this can be accessed as follows: http://localhost:5000/get_similar_games?query=fast-paced%20action%20game"
   ]
  }
 ],
 "metadata": {
  "kernelspec": {
   "display_name": "steam-games-mWAKNGq7-py3.10",
   "language": "python",
   "name": "python3"
  },
  "language_info": {
   "codemirror_mode": {
    "name": "ipython",
    "version": 3
   },
   "file_extension": ".py",
   "mimetype": "text/x-python",
   "name": "python",
   "nbconvert_exporter": "python",
   "pygments_lexer": "ipython3",
   "version": "3.10.12"
  }
 },
 "nbformat": 4,
 "nbformat_minor": 2
}
