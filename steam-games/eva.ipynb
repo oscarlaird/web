{
 "cells": [
  {
   "cell_type": "code",
   "execution_count": 2,
   "metadata": {},
   "outputs": [
    {
     "name": "stderr",
     "output_type": "stream",
     "text": [
      "/home/oscar/.cache/pypoetry/virtualenvs/steam-games-mWAKNGq7-py3.10/lib/python3.10/site-packages/tqdm/auto.py:21: TqdmWarning: IProgress not found. Please update jupyter and ipywidgets. See https://ipywidgets.readthedocs.io/en/stable/user_install.html\n",
      "  from .autonotebook import tqdm as notebook_tqdm\n"
     ]
    },
    {
     "name": "stdout",
     "output_type": "stream",
     "text": [
      "(1, 384)\n"
     ]
    }
   ],
   "source": [
    "import json\n",
    "from pathlib import Path\n",
    "\n",
    "# import dotenv\n",
    "# dotenv.load_dotenv(\"/home/oscar/nlitp/eva_proof_server/.env\")\n",
    "\n",
    "import sentence_transformers  # dependency for sentence_feature_extractor.py\n",
    "# check that we can use sentence_transformers\n",
    "print(sentence_transformers.SentenceTransformer('all-MiniLM-L6-v2').encode(['hello world']).shape)\n",
    "# import openai  # dependency for chatgpt.py\n",
    "import evadb\n",
    "cursor = evadb.connect(evadb_dir=Path(\"./eva_db\")).cursor()"
   ]
  },
  {
   "cell_type": "code",
   "execution_count": 3,
   "metadata": {},
   "outputs": [
    {
     "data": {
      "text/html": [
       "<div>\n",
       "<style scoped>\n",
       "    .dataframe tbody tr th:only-of-type {\n",
       "        vertical-align: middle;\n",
       "    }\n",
       "\n",
       "    .dataframe tbody tr th {\n",
       "        vertical-align: top;\n",
       "    }\n",
       "\n",
       "    .dataframe thead th {\n",
       "        text-align: right;\n",
       "    }\n",
       "</style>\n",
       "<table border=\"1\" class=\"dataframe\">\n",
       "  <thead>\n",
       "    <tr style=\"text-align: right;\">\n",
       "      <th></th>\n",
       "      <th>features</th>\n",
       "    </tr>\n",
       "  </thead>\n",
       "  <tbody>\n",
       "    <tr>\n",
       "      <th>0</th>\n",
       "      <td>[[-0.03447732, 0.031023178, 0.0067349477, 0.02...</td>\n",
       "    </tr>\n",
       "  </tbody>\n",
       "</table>\n",
       "</div>"
      ],
      "text/plain": [
       "                                            features\n",
       "0  [[-0.03447732, 0.031023178, 0.0067349477, 0.02..."
      ]
     },
     "execution_count": 3,
     "metadata": {},
     "output_type": "execute_result"
    }
   ],
   "source": [
    "# %cd /home/oscar/nlitp/evaF2F\n",
    "# Register the function as embed text\n",
    "cursor.query(\"\"\"\n",
    "DROP FUNCTION IF EXISTS EmbedText\n",
    "\"\"\").df()\n",
    "cursor.query(\"\"\"\n",
    "CREATE FUNCTION EmbedText IMPL './sentence_feature_extractor.py'\n",
    "\"\"\").df()\n",
    "cursor.query(\"\"\"\n",
    "SELECT EmbedText('hello world')\n",
    "\"\"\").df()"
   ]
  },
  {
   "cell_type": "code",
   "execution_count": 49,
   "metadata": {},
   "outputs": [
    {
     "data": {
      "text/html": [
       "<div>\n",
       "<style scoped>\n",
       "    .dataframe tbody tr th:only-of-type {\n",
       "        vertical-align: middle;\n",
       "    }\n",
       "\n",
       "    .dataframe tbody tr th {\n",
       "        vertical-align: top;\n",
       "    }\n",
       "\n",
       "    .dataframe thead th {\n",
       "        text-align: right;\n",
       "    }\n",
       "</style>\n",
       "<table border=\"1\" class=\"dataframe\">\n",
       "  <thead>\n",
       "    <tr style=\"text-align: right;\">\n",
       "      <th></th>\n",
       "    </tr>\n",
       "  </thead>\n",
       "  <tbody>\n",
       "  </tbody>\n",
       "</table>\n",
       "</div>"
      ],
      "text/plain": [
       "Empty DataFrame\n",
       "Columns: []\n",
       "Index: []"
      ]
     },
     "execution_count": 49,
     "metadata": {},
     "output_type": "execute_result"
    }
   ],
   "source": [
    "# add the data to evadb from games.db\n",
    "# we will just copy the data from games.db to evadb\n",
    "# create the games table\n",
    "cursor.query(\"\"\"\n",
    "DROP TABLE IF EXISTS games\n",
    "\"\"\").df()\n",
    "cursor.query(\"\"\"\n",
    "CREATE TABLE games (\n",
    "            name TEXT(0),\n",
    "            img_url TEXT(0),\n",
    "            date TEXT(0),\n",
    "            developer TEXT(0),\n",
    "            full_desc TEXT(0),\n",
    "            price TEXT(0),\n",
    "            url_info TEXT(0)\n",
    "            )\"\"\"\n",
    ").df()\n",
    "cursor.query(\"\"\"\n",
    "SELECT * FROM games\n",
    "\"\"\").df()\n"
   ]
  },
  {
   "cell_type": "code",
   "execution_count": 50,
   "metadata": {},
   "outputs": [
    {
     "name": "stderr",
     "output_type": "stream",
     "text": [
      "1001it [00:29, 33.89it/s]\n"
     ]
    }
   ],
   "source": [
    "\n",
    "# copy the data from games.db to evadb\n",
    "# connect to games.db with sqlite3\n",
    "import sqlite3\n",
    "conn = sqlite3.connect(\"games.db\")\n",
    "c = conn.cursor()\n",
    "# get the data from games.db\n",
    "c.execute(\"SELECT * FROM games\")\n",
    "games = c.fetchall()\n",
    "# insert the data into evadb\n",
    "from tqdm import tqdm   \n",
    "for i, game in tqdm(enumerate(games)):\n",
    "    if i > 1000:\n",
    "        break\n",
    "    game = list(game)\n",
    "    for i in range(len(game)):\n",
    "        game[i] = game[i].replace(\"'\", \"\").replace('\"', '').replace(\";\", \"\").replace(\":\", \"\")#.replace(\"(\", \"\").replace(\")\", \"\")\n",
    "    cursor.query(f\"\"\"\n",
    "    INSERT INTO games (name, img_url, date, developer, full_desc, price, url_info)\n",
    "    VALUES ('{game[0]}', '{game[1]}', '{game[2]}', '{game[3]}', '{game[4]}', '{game[5]}', '{game[6]}')\n",
    "    \"\"\").df()\n",
    "# check that the data is there\n",
    "out = cursor.query(\"\"\"\n",
    "SELECT * FROM games\n",
    "\"\"\").df()"
   ]
  },
  {
   "cell_type": "code",
   "execution_count": 54,
   "metadata": {},
   "outputs": [
    {
     "data": {
      "text/plain": [
       "{'_row_id': 101,\n",
       " 'name': 'Among Us - Mini Crewmate Bundle',\n",
       " 'img_url': 'https//steamcdn-a.akamaihd.net/steam/apps/971996/header.jpg?t=1559936187',\n",
       " 'date': 'Jun 7, 2019',\n",
       " 'developer': 'Innersloth',\n",
       " 'full_desc': 'About This Content  A mini you! A robotic friend? Includes the Mini Crewmate and Robot! (Only one pet can be equipped at a time) Support Among Us servers and Innersloth!',\n",
       " 'price': '299',\n",
       " 'url_info': 'https//store.steampowered.com/app/971996/Among_Us__Mini_Crewmate_Bundle/?snr=1_7_7_230_150_1'}"
      ]
     },
     "execution_count": 54,
     "metadata": {},
     "output_type": "execute_result"
    }
   ],
   "source": [
    "cursor.query(\"\"\"\n",
    "SELECT * FROM games\n",
    "\"\"\").df().iloc[100].to_dict()"
   ]
  },
  {
   "cell_type": "code",
   "execution_count": 55,
   "metadata": {},
   "outputs": [
    {
     "name": "stderr",
     "output_type": "stream",
     "text": [
      "11-18-2023 16:44:18 WARNING[drop_object_executor:drop_object_executor.py:_handle_drop_index:0113] Index game_vector_idx does not exist, therefore cannot be dropped.\n",
      "/home/oscar/.cache/pypoetry/virtualenvs/steam-games-mWAKNGq7-py3.10/lib/python3.10/site-packages/sentence_transformers/SentenceTransformer.py:157: FutureWarning: Series.__getitem__ treating keys as positions is deprecated. In a future version, integer keys will always be treated as labels (consistent with DataFrame behavior). To access a value by position, use `ser.iloc[pos]`\n",
      "  sentences_sorted = [sentences[idx] for idx in length_sorted_idx]\n"
     ]
    },
    {
     "data": {
      "text/html": [
       "<div>\n",
       "<style scoped>\n",
       "    .dataframe tbody tr th:only-of-type {\n",
       "        vertical-align: middle;\n",
       "    }\n",
       "\n",
       "    .dataframe tbody tr th {\n",
       "        vertical-align: top;\n",
       "    }\n",
       "\n",
       "    .dataframe thead th {\n",
       "        text-align: right;\n",
       "    }\n",
       "</style>\n",
       "<table border=\"1\" class=\"dataframe\">\n",
       "  <thead>\n",
       "    <tr style=\"text-align: right;\">\n",
       "      <th></th>\n",
       "      <th>0</th>\n",
       "    </tr>\n",
       "  </thead>\n",
       "  <tbody>\n",
       "    <tr>\n",
       "      <th>0</th>\n",
       "      <td>Index game_vector_idx successfully added to th...</td>\n",
       "    </tr>\n",
       "  </tbody>\n",
       "</table>\n",
       "</div>"
      ],
      "text/plain": [
       "                                                   0\n",
       "0  Index game_vector_idx successfully added to th..."
      ]
     },
     "execution_count": 55,
     "metadata": {},
     "output_type": "execute_result"
    }
   ],
   "source": [
    "# create a vector index using faiss\n",
    "cursor.query(\"\"\"\n",
    "DROP INDEX IF EXISTS game_vector_idx\n",
    "\"\"\").df()\n",
    "# CREATE INDEX [index_name]\n",
    "# ON [table_name] ([function_name]([column_name]))\n",
    "# USING [index_method]\n",
    "cursor.query(\"\"\"\n",
    "CREATE INDEX game_vector_idx\n",
    "ON games (EmbedText(games.full_desc))\n",
    "USING FAISS\n",
    "\"\"\").df()"
   ]
  },
  {
   "cell_type": "code",
   "execution_count": 60,
   "metadata": {},
   "outputs": [
    {
     "data": {
      "text/html": [
       "<div>\n",
       "<style scoped>\n",
       "    .dataframe tbody tr th:only-of-type {\n",
       "        vertical-align: middle;\n",
       "    }\n",
       "\n",
       "    .dataframe tbody tr th {\n",
       "        vertical-align: top;\n",
       "    }\n",
       "\n",
       "    .dataframe thead th {\n",
       "        text-align: right;\n",
       "    }\n",
       "</style>\n",
       "<table border=\"1\" class=\"dataframe\">\n",
       "  <thead>\n",
       "    <tr style=\"text-align: right;\">\n",
       "      <th></th>\n",
       "      <th>_row_id</th>\n",
       "      <th>name</th>\n",
       "      <th>img_url</th>\n",
       "      <th>date</th>\n",
       "      <th>developer</th>\n",
       "      <th>full_desc</th>\n",
       "      <th>price</th>\n",
       "      <th>url_info</th>\n",
       "    </tr>\n",
       "  </thead>\n",
       "  <tbody>\n",
       "    <tr>\n",
       "      <th>0</th>\n",
       "      <td>538</td>\n",
       "      <td>Pistol Whip</td>\n",
       "      <td>https//steamcdn-a.akamaihd.net/steam/apps/1079...</td>\n",
       "      <td>Nov 7, 2019</td>\n",
       "      <td>Cloudhead Games ltd.</td>\n",
       "      <td>About This Game Inspired by God-mode action mo...</td>\n",
       "      <td>249</td>\n",
       "      <td>https//store.steampowered.com/app/1079800/Pist...</td>\n",
       "    </tr>\n",
       "    <tr>\n",
       "      <th>1</th>\n",
       "      <td>464</td>\n",
       "      <td>Combat Mission Shock Force 2</td>\n",
       "      <td>https//steamcdn-a.akamaihd.net/steam/apps/1369...</td>\n",
       "      <td>Aug 31, 2020</td>\n",
       "      <td>Battlefront</td>\n",
       "      <td>About This Game The latest title in the famous...</td>\n",
       "      <td>599</td>\n",
       "      <td>https//store.steampowered.com/app/1369370/Comb...</td>\n",
       "    </tr>\n",
       "    <tr>\n",
       "      <th>2</th>\n",
       "      <td>388</td>\n",
       "      <td>Zero Caliber VR</td>\n",
       "      <td>https//steamcdn-a.akamaihd.net/steam/apps/8772...</td>\n",
       "      <td>Nov 9, 2018</td>\n",
       "      <td>XREAL Games</td>\n",
       "      <td>About This Game   ABOUT THIS GAMEZero Caliber ...</td>\n",
       "      <td>249</td>\n",
       "      <td>https//store.steampowered.com/app/877200/Zero_...</td>\n",
       "    </tr>\n",
       "    <tr>\n",
       "      <th>3</th>\n",
       "      <td>951</td>\n",
       "      <td>Need for Speed™ Most Wanted</td>\n",
       "      <td>https//steamcdn-a.akamaihd.net/steam/apps/1262...</td>\n",
       "      <td>Oct 30, 2012</td>\n",
       "      <td>Criterion Games</td>\n",
       "      <td>About This Game The open-world action in Need ...</td>\n",
       "      <td>499</td>\n",
       "      <td>https//store.steampowered.com/app/1262560/Need...</td>\n",
       "    </tr>\n",
       "    <tr>\n",
       "      <th>4</th>\n",
       "      <td>857</td>\n",
       "      <td>Need for Speed™ Payback</td>\n",
       "      <td>https//steamcdn-a.akamaihd.net/steam/apps/1262...</td>\n",
       "      <td>Nov 6, 2017</td>\n",
       "      <td>Ghost Games</td>\n",
       "      <td>About This Game Set in the underworld of Fortu...</td>\n",
       "      <td>499</td>\n",
       "      <td>https//store.steampowered.com/app/1262580/Need...</td>\n",
       "    </tr>\n",
       "  </tbody>\n",
       "</table>\n",
       "</div>"
      ],
      "text/plain": [
       "   _row_id                          name  \\\n",
       "0      538                   Pistol Whip   \n",
       "1      464  Combat Mission Shock Force 2   \n",
       "2      388               Zero Caliber VR   \n",
       "3      951   Need for Speed™ Most Wanted   \n",
       "4      857       Need for Speed™ Payback   \n",
       "\n",
       "                                             img_url          date  \\\n",
       "0  https//steamcdn-a.akamaihd.net/steam/apps/1079...   Nov 7, 2019   \n",
       "1  https//steamcdn-a.akamaihd.net/steam/apps/1369...  Aug 31, 2020   \n",
       "2  https//steamcdn-a.akamaihd.net/steam/apps/8772...   Nov 9, 2018   \n",
       "3  https//steamcdn-a.akamaihd.net/steam/apps/1262...  Oct 30, 2012   \n",
       "4  https//steamcdn-a.akamaihd.net/steam/apps/1262...   Nov 6, 2017   \n",
       "\n",
       "              developer                                          full_desc  \\\n",
       "0  Cloudhead Games ltd.  About This Game Inspired by God-mode action mo...   \n",
       "1           Battlefront  About This Game The latest title in the famous...   \n",
       "2           XREAL Games  About This Game   ABOUT THIS GAMEZero Caliber ...   \n",
       "3       Criterion Games  About This Game The open-world action in Need ...   \n",
       "4           Ghost Games  About This Game Set in the underworld of Fortu...   \n",
       "\n",
       "  price                                           url_info  \n",
       "0   249  https//store.steampowered.com/app/1079800/Pist...  \n",
       "1   599  https//store.steampowered.com/app/1369370/Comb...  \n",
       "2   249  https//store.steampowered.com/app/877200/Zero_...  \n",
       "3   499  https//store.steampowered.com/app/1262560/Need...  \n",
       "4   499  https//store.steampowered.com/app/1262580/Need...  "
      ]
     },
     "execution_count": 60,
     "metadata": {},
     "output_type": "execute_result"
    }
   ],
   "source": [
    "test_query = \"fast-paced action game\"\n",
    "cursor.query(f\"\"\"\n",
    "SELECT * FROM games ORDER BY Similarity(EmbedText('{test_query}'), EmbedText(full_desc)) LIMIT 05;\n",
    "\"\"\").df()"
   ]
  },
  {
   "cell_type": "code",
   "execution_count": 66,
   "metadata": {},
   "outputs": [
    {
     "name": "stdout",
     "output_type": "stream",
     "text": [
      " * Serving Flask app '__main__'\n",
      " * Debug mode: off\n"
     ]
    },
    {
     "name": "stderr",
     "output_type": "stream",
     "text": [
      "\u001b[31m\u001b[1mWARNING: This is a development server. Do not use it in a production deployment. Use a production WSGI server instead.\u001b[0m\n",
      " * Running on http://localhost:5000\n",
      "\u001b[33mPress CTRL+C to quit\u001b[0m\n",
      "127.0.0.1 - - [18/Nov/2023 17:47:14] \"GET /get_similar_games?query=competitive%20battle%20royaler HTTP/1.1\" 200 -\n",
      "127.0.0.1 - - [18/Nov/2023 17:47:17] \"GET /get_similar_games?query=[object%20Object] HTTP/1.1\" 200 -\n",
      "127.0.0.1 - - [18/Nov/2023 17:48:47] \"GET /get_similar_games?query=[object%20Object] HTTP/1.1\" 200 -\n",
      "127.0.0.1 - - [18/Nov/2023 17:48:51] \"GET /get_similar_games?query=[object%20Object] HTTP/1.1\" 200 -\n",
      "127.0.0.1 - - [18/Nov/2023 17:48:55] \"GET /get_similar_games?query=About%20This%20Game%20Pavlov%20is%20a%20multiplayer%20shooter%20in%20VR%20FeaturesDedicated%20ServersCompetitive%20Search%20And%20Destroy%20game%20modeCasual%20fast-paced%20game%20modesBotsMatchmakingOffline/Practice%20modeVoice%20Chat HTTP/1.1\" 200 -\n",
      "127.0.0.1 - - [18/Nov/2023 17:48:56] \"GET /get_similar_games?query=About%20This%20Content%20%20A%20mini%20you!%20A%20robotic%20friend?%20Includes%20the%20Mini%20Crewmate%20and%20Robot!%20(Only%20one%20pet%20can%20be%20equipped%20at%20a%20time)%20Support%20Among%20Us%20servers%20and%20Innersloth! HTTP/1.1\" 200 -\n",
      "127.0.0.1 - - [18/Nov/2023 17:48:58] \"GET /get_similar_games?query=About%20This%20Game%20Automobilista%202%20is%20the%20culmination%20of%20a%20project%20developed%20over%20the%20course%20of%20nearly%20a%20decade.%20At%20its%20core,%20it%20is%20a%20comprehensive%20simulation%20of%20the%20brazilian%20motorsports%20scene,%20featuring%20all%20major%20brazilian%20racing%20series,%20race%20tracks%20and%20manufacturers.Packing%20an%20even%20larger%20roster%20of%20diverse%20cars%20and%20tracks%20than%20its%20predecessor,%20Automobilista%202%20ventures%20further%20into%20the%20best%20of%20international%20motorsports,%20including%20prestigious%20brands%20along%20with%20iconic%20venues%20such%20as%20Brands%20Hatch,%20Mount%20Panorama%20and%20Imola,%20at%20the%20same%20time%20continuing%20to%20explore%20the%20more%20exotic%20and%20exciting%20forms%20of%20motorsports%20from%20around%20the%20world.Boosted%20by%20a%20new%20technical%20partnership%20with%20the%20developers%20of%20the%20award-winning%20Project%20CARS%20series,%20Automobilista%202%20is%20built%20on%20the%20MADNESS%20engine,%20providing%20incredible%20graphical%20quality,%20the%20most%20advanced%20dynamic%20weather%20and%20track%20condition%20systems%20in%20a%20racing%20simulator%20and%20superior%20VR%20support,%20to%20deliver%20a%20substantial%20realism%20upgrade%20over%20its%20precedecessor%20and%20a%20fully%20immersive%20visual%20experience.The%20game%20has%20a%20long-term%20development%20plan%20that%20will%20see%20continual%20developments%20being%20made%20over%20several%20years%20following%20its%20release,%20continually%20growing%20with%20the%20addition%20of%20new%20game%20modes,%20features,%20cars%20and%20tracks%20from%20the%20best%20of%20the%20past,%20present%20and%20future%20of%20motorsports!RACE%20ANYTHING,%20ANYWHERE,%20ANYHOWFrom%20rental%20Karts%20to%20high-performance%20Prototypes,%20Classic%20Grand%20Prix%20cars%20to%20modern%20GTs%20and%20Racing%20Trucks,%20Automobilista%202%20offers%20it%20all%20%20through%20a%20catalogue%20of%20beautifully-detailed%20venues%20across%20five%20continents.Massively%20expanding%20on%20the%20Brazilian%20motorsports%20core%20of%20the%20original%20title%20%20now%20featuring%206%20of%20the%20major%20national%20series%20as%20official%20partners%20%20Automobilista%202%20offers%20a%20uniquely%20diverse%20range%20of%20motorsports%20disciplines%20and%20machineryACCESSIBLE%20VISUAL%20REALISMAutomobilista%202%20combines%20world-class%20graphics%20with%20optimized%20performance%20to%20offer%20glorious%20visuals%20even%20on%20less%20powerful%20systems,%20and%20one%20of%20the%20best%20VR%20experiences%20of%20any%20racing%20gameFULLY%20DYNAMIC%20RACINGFeaturing%20the%20most%20advanced%20dynamic%20weather%20and%20track%20condition%20systems,%2024-hour%20cycles,%20barometric%20pressure%20modelling,%20varying%20wind%20speeds%20and%20temperatures%20%20all%20to%20produce%20ever-changing%20conditions%20session%20to%20session.%20AMS2%20gives%20you%20full%20control%20for%20races%20to%20progress%20just%20as%20you%20want%20it,%20ensuring%20no%20two%20laps%20are%20the%20sameRACING%20LEGENDSA%20growing%20library%20of%20famous%20historical%20racing%20cars%20and%20race%20tracks%20as%20they%20were%20through%20various%20decades%20offer%20players%20the%20opportunity%20to%20relive%20classic%20eras%20of%20motorsports%20historyEVER%20EVOLVING,%20EVER%20EXPANDINGBoasting%20a%20commitment%20to%20a%20long-term%20development%20cycle,%20Automobilista%202%20receives%20regular%20monthly%20game%20updates%20bringing%20in%20a%20constant%20flow%20of%20new%20features%20and%20improvements%20to%20the%20game%20along%20with%20new%20cars%20and%20tracksFeatures%20&%20game%20modes%20to%20be%20added%20over%20its%20ongoing%20development%20cycleMULTIPLAYER%20RANKING%20SYSTEM%20-%20Using%20data%20logged%20from%20players%20activities%20in%20Multiplayer%20races%20to%20assess%20their%20safety,%20skill%20and%20experience%20ratings%20the%20system%20will%20allow%20players%20to%20know%20the%20reputation%20of%20the%20drivers%20theyre%20racing%20against,%20and%20allow%20hosts%20to%20adjust%20the%20level%20of%20drivers%20allowed%20so%20that%20even%20open%20servers%20are%20able%20to%20offer%20a%20higher%20caliber%20racing%20against%20like-minded%20opponents.OFFICIAL%20EVENTS%20&%20COMPETITION%20-%20The%20introduction%20of%20the%20Multiplayer%20Ranking%20System%20will%20also%20lead%20Automobilista%202%20to%20evolve%20as%20an%20E-Sports%20platform%20and%20host%20prize-awarding%20Events%20along%20with%20official%20E-Sports%20Championships%20in%20partnership%20with%20each%20officially-represented%20seriesCUSTOM%20CHAMPIONSHIP%20TOOL%20-%20With%20this%20feature%20users%20will%20be%20able%20to%20create%20their%20own%20Single%20Player%20championships,%20definingthe%20Classes%20allowed,%20number%20of%20opponents,%20rules,%20number%20of%20races,and%20their%20locationsCAREER%20MODE%20-%20The%20endgame%20for%20Automobilista%202%20is%20the%20most%20comprehensive%20and%20true-to-life%20career%20mode%20ever%20designed%20for%20a%20racing%20game,%20connecting%20the%20games%20incredibly%20vast%20and%20ever-growing%20ensemble%20of%20Cars%20and%20Tracks%20into%20a%20cohesive%20%20journey%20accross%20several%20decades%20of%20motorsports. HTTP/1.1\" 200 -\n",
      "127.0.0.1 - - [18/Nov/2023 17:49:13] \"GET /get_similar_games?query=[object%20Object] HTTP/1.1\" 200 -\n",
      "127.0.0.1 - - [18/Nov/2023 17:49:21] \"GET /get_similar_games?query=About%20This%20Content%20%20A%20mini%20you!%20A%20robotic%20friend?%20Includes%20the%20Mini%20Crewmate%20and%20Robot!%20(Only%20one%20pet%20can%20be%20equipped%20at%20a%20time)%20Support%20Among%20Us%20servers%20and%20Innersloth! HTTP/1.1\" 200 -\n",
      "127.0.0.1 - - [18/Nov/2023 17:50:42] \"GET /get_similar_games?query=[object%20Object] HTTP/1.1\" 200 -\n",
      "127.0.0.1 - - [18/Nov/2023 17:50:49] \"GET /get_similar_games?query=[object%20Object] HTTP/1.1\" 200 -\n",
      "127.0.0.1 - - [18/Nov/2023 17:50:52] \"GET /get_similar_games?query=About%20This%20Content%20%20A%20mini%20you!%20A%20robotic%20friend?%20Includes%20the%20Mini%20Crewmate%20and%20Robot!%20(Only%20one%20pet%20can%20be%20equipped%20at%20a%20time)%20Support%20Among%20Us%20servers%20and%20Innersloth! HTTP/1.1\" 200 -\n",
      "127.0.0.1 - - [18/Nov/2023 17:51:39] \"GET /get_similar_games?query=[object%20Object] HTTP/1.1\" 200 -\n",
      "127.0.0.1 - - [18/Nov/2023 17:51:55] \"GET /get_similar_games?query=About%20This%20Content%20%20A%20mini%20you!%20A%20robotic%20friend?%20Includes%20the%20Mini%20Crewmate%20and%20Robot!%20(Only%20one%20pet%20can%20be%20equipped%20at%20a%20time)%20Support%20Among%20Us%20servers%20and%20Innersloth! HTTP/1.1\" 200 -\n",
      "127.0.0.1 - - [18/Nov/2023 17:53:58] \"GET /get_similar_games?query=[object%20Object] HTTP/1.1\" 200 -\n",
      "127.0.0.1 - - [18/Nov/2023 17:54:42] \"GET /get_similar_games?query=[object%20Object] HTTP/1.1\" 200 -\n",
      "127.0.0.1 - - [18/Nov/2023 17:55:07] \"GET /get_similar_games?query=[object%20Object] HTTP/1.1\" 200 -\n",
      "127.0.0.1 - - [18/Nov/2023 17:55:16] \"GET /get_similar_games?query=[object%20Object] HTTP/1.1\" 200 -\n",
      "127.0.0.1 - - [18/Nov/2023 17:55:20] \"GET /get_similar_games?query=About%20This%20Content%20%20A%20mini%20you!%20A%20robotic%20friend?%20Includes%20the%20Mini%20Crewmate%20and%20Robot!%20(Only%20one%20pet%20can%20be%20equipped%20at%20a%20time)%20Support%20Among%20Us%20servers%20and%20Innersloth! HTTP/1.1\" 200 -\n",
      "127.0.0.1 - - [18/Nov/2023 17:55:31] \"GET /get_similar_games?query=About%20This%20Game%20Brick%20Rigs%20allows%20you%20to%20build%20many%20kinds%20of%20vehicles%20from%20a%20variety%20of%20bricks%20and%20experience%20their%20dynamic%20driving%20and%20destruction%20physics%20in%20a%20sandbox%20environment.It%20doesnt%20matter%20if%20you%20want%20to%20build%20an%20dragster,%20a%20fire%20engine,%20a%20forklift,%20a%20helicopter,%20a%20plane%20or%20even%20a%20tank%20it%20will%20drive,%20break%20and%20function%20as%20you%20would%20expect%20it.The%20multiplayer%20mode%20allows%20you%20to%20experience%20these%20physics%20together%20with%20your%20friends.%20You%20can%20race%20other%20players,%20organize%20demolition%20derbys%20or%20battle%20each%20other%20in%20a%20dog%20fight,%20the%20rules%20are%20up%20to%20you! HTTP/1.1\" 200 -\n",
      "127.0.0.1 - - [18/Nov/2023 17:55:36] \"GET /get_similar_games?query=[object%20Object] HTTP/1.1\" 200 -\n",
      "127.0.0.1 - - [18/Nov/2023 17:55:41] \"GET /get_similar_games?query=About%20This%20Game%20BeamNG.drive%20is%20a%20realistic,%20immersive%20driving%20game%20offering%20near-limitless%20possibilities.%20Our%20soft-body%20physics%20engine%20simulates%20every%20component%20of%20a%20vehicle%20in%20real%20time,%20resulting%20in%20realistic,%20dynamic%20behavior.%20%20%20%20%20%20%20%20%20%20%20%20%20%20%20%20%20%20%20%20%20%20%20%20%20%20%20%20%20%20%20%20%20%20%20%20%20%20%20%20The%20driving%20feel%20is%20authentic%20and%20visceral,%20and%20crashes%20are%20realistic%20and%20violent%20yet%20the%20physics%20are%20accessible%20enough%20to%20drive%20with%20a%20keyboard%20or%20gamepad%20while%20still%20being%20authentic%20with%20a%20full%20racing%20wheel%20with%20uncompromising%20realism.Environments%20and%20vehicles%20in%20BeamNG.drive%20are%20hand-crafted%20with%20passionate%20attention%20to%20detail.%20With%20years%20of%20meticulous%20design,%20research,%20and%20experience,%20we%20authentically%20recreate%20the%20feeling%20and%20excitement%20of%20real%20world%20driving.We%20are%20a%20small%20team%20from%20around%20the%20world%20with%20no%20obligations%20to%20publishers%20or%20outside%20interests.%20Our%20users%20and%20modding%20community%20are%20our%20first%20priority.%20Help%20us%20make%20BeamNG.drive%20the%20ultimate%20driving%20experience%20and%20discover%20what%20an%20open%20and%20uncompromising%20soft-body%20vehicle%20simulator%20can%20be.Why%20is%20BeamNG.drive%20the%20game%20for%20you?As%20an%20open%20world%20vehicle%20simulator,%20BeamNG.drive%20will%20cover%20a%20large%20array%20of%20vehicular%20disciplines%20-%20everything%20from%20a%20delivery%20mission%20in%20a%20box%20truck%20to%20a%20high%20speed%20rally%20race%20or%20a%20destruction%20derby.%20The%20vehicle%20customization%20and%20detail%20will%20allow%20you%20to%20make%20your%20car%20or%20truck%20all%20your%20own%20-%20fix%20it%20up,%20upgrade%20it,%20or%20strip%20away%20body%20panels%20to%20reduce%20weight.%20There%20are%20a%20lot%20of%20different%20types%20of%20gameplay%20we%20want%20to%20implement%20beyond%20just%20racing%20and%20crashing,%20such%20as%20police%20chases,%20stunt%20challenges,%20and%20other%20specialized%20minigames.%20Eventually%20we%20would%20like%20to%20have%20some%20kind%20of%20single%20player%20open%20world%20career%20mode,%20with%20persistent%20vehicle%20ownership%20and%20procedurally%20generated%20used%20vehicles%20to%20buy%20and%20events%20to%20run%20them%20in.In%20some%20ways,%20BeamNG.drive%20is%20about%20doing%20anything%20you%20want%20with%20a%20car%20or%20truck%20-%20the%20stuff%20other%20games%20dont%20let%20you%20do.%20You%20can%20go%20off-roading%20in%20a%20family%20sedan%20or%20hurl%20a%20delivery%20truck%20around%20a%20racing%20circuit,%20all%20with%20beautiful%20soft-body%20simulation%20physics.%20You%20can%20mod%20those%20same%20vehicles%20to%20be%20racing%20beasts,%20derby%20monsters,%20or%20off-road%20behemoths%20-%20or%20just%20thrash%20them%20stock.%20At%20the%20end%20of%20the%20day,%20BeamNG.drive%20gives%20you%20the%20gameplay%20you%20want,%20and%20doesnt%20force%20you%20to%20do%20anything%20that%20you%20dont%20think%20is%20fun%20or%20interesting.The%20future%20of%20the%20game%20and%20our%20physics%20engineAs%20we%20optimize%20our%20game%20and%20computer%20technology%20improves,%20the%20amount%20of%20vehicles%20which%20can%20be%20simultaneously%20simulated%20at%20a%20smooth%20framerate%20will%20increase.%20Right%20now%20you%20can%20run%204%20to%206%20cars%20at%20one%20time%20on%20a%20high%20end%20quad-core%20processor.%20Each%20vehicle%20has%20around%20400%20nodes%20and%204000%20beams,%20all%20being%20simulated%202000%20times%20per%20second.%20We%20hope%20to%20expand%20the%20number%20of%20simultaneous%20vehicles%20possible%20to%20at%20least%208%20with%20a%20mid-range%20processor.We%20will%20also%20look%20towards%20having%20multiplayer%20in%20the%20future,%20but%20it%20may%20be%20some%20time%20before%20we%20can%20create%20the%20multiplayer%20experience%20everyone%20is%20expecting.%20We%20are%20well%20aware%20of%20the%20demand%20for%20multiplayer%20and%20we%20want%20it%20just%20as%20much%20as%20you,%20but%20for%20the%20short%20term%20we%20are%20focusing%20on%20the%20single%20player%20career%20mode,%20various%20driving%20events,%20fixing%20bugs,%20and%20creating%20more%20content.%20It%20is%20feasible%20that%20we%20could%20implement%20local%20and/or%20same%20PC%20multiplayer%20in%20the%20interim.Also,%20the%20possibilities%20extend%20beyond%20land%20vehicles.%20Users%20in%20our%20community%20have%20already%20made%20planes%20and%20helicopters%20that%20fly%20purely%20with%20the%20existing%20vehicle%20aerodynamic%20physics,%20with%20no%20cheating%20whatsoever.%20BeamNG%20can%20simulate%20aircraft%20in%20a%20very%20authentic%20way%20due%20to%20its%20soft-body%20physics.%20All%20the%20flex%20that%20happens%20to%20a%20real%20planes%20airframe%20arises%20naturally%20in%20BeamNG,%20and%20the%20consequences%20of%20excessive%20stress%20are%20also%20modeled.%20Fly%20too%20fast%20and%20your%20wings%20will%20start%20to%20bend%20and%20rip%20off.%20The%20potential%20for%20the%20BeamNG%20physics%20engine%20is%20huge.Alpha%20Access%20Features%20%20%20%20All%20future%20updates%20to%20BeamNG.drive%20included%20for%20free%20(alpha,%20beta),%20also%20including%20the%20final%20game%20%20%20%20Soft-body%20physics%20sandbox%20%20%20%2019%20detailed,%20customizable,%20destructible%20vehicles,%20with%20more%20to%20come%20%20%20%2010%20terrains%20to%20explore%20and%20drive%20across,%20with%20more%20to%20come%20%20%20%20Frequent%20updates%20adding%20terrains,%20vehicles,%20features,%20gameplay,%20and%20bug%20fixes%20%20%20%20Full%20modding%20and%20content%20creation%20capabilities%20-%20make%20maps%20and%20vehicles,%20and%20script%20gameplay%20%20%20%20Use%20the%20built-in%20terrain%20editor%20and%20any%203D%20modeling,%20image%20editing,%20and%20text%20editing%20software%20%20%20%20Online%20authentication%20is%20only%20necessary%20to%20update%20the%20game%20itself%20does%20not%20need%20an%20internet%20connection%20to%20run.Alpha%20TestersUsers%20that%20already%20entered%20the%20alpha%20testing%20via%20our%20website%20can%20get%20a%20free%20Steam%20key.Our%20goalsOur%20main%20focus%20is%20on%20how%20things%20move%20rather%20than%20how%20things%20look%20on%20the%20screen.%20We%20aim%20to%20bring%20our%20expertise%20in%20real%20time%20soft-body%20physics%20and%20soft-body%20physics%20model%20design%20to%20the%20forefront%20of%20game%20physics%20simulation,%20making%20available%20the%20technology%20and%20know-how%20to%20as%20a%20wide%20an%20audience%20as%20possible.%20To%20achieve%20this,%20we%20are%20designing%20the%20engine%20and%20corresponding%20assets,%20so%20as%20to%20be%20independent%20of%20the%20underlying%20game%20engine%20and%20operating%20system.Right%20now%20the%20physics%20engine%20is%20running%20on%20a%20multicore%20CPU%20configuration,%20but%20we%20are%20also%20in%20the%20process%20of%20supporting%20GPUs%20via%20OpenCL.Our%20missionTo%20have%20realistic,%20accurate,%20destructible,%20and%20malleable%20physics%20everywhere.%20To%20make%20anything%20possible.More%20FeedbackMore%20Feedback%20can%20be%20found%20there%20http//www.beamng.com/content/119-FeedbackContact%20UsYou%20can%20get%20in%20touch%20with%20us%20in%20several%20ways%20%20%20%20%20Use%20our%20forums%20http//www.beamng.com/forum/%20%20%20%20%20Via%20email%20http//www.beamng.com/contactus/%20or%20support@beamng.com%20%20%20%20%20Follow%20us%20on%20Twitter%20http//twitter.com/beamng%20%20%20%20%20Subscribe%20to%20our%20YouTube%20channel%20http//youtube.com/user/beamng%20%20%20%20%20Visit%20our%20Facebook%20page%20http//facebook.com/BeamNGPhysics HTTP/1.1\" 200 -\n",
      "127.0.0.1 - - [18/Nov/2023 17:58:33] \"GET /get_similar_games?query=[object%20Object] HTTP/1.1\" 200 -\n",
      "127.0.0.1 - - [18/Nov/2023 17:58:56] \"GET /get_similar_games?query=[object%20Object] HTTP/1.1\" 200 -\n",
      "127.0.0.1 - - [18/Nov/2023 17:58:58] \"GET /get_similar_games?query=[object%20Object] HTTP/1.1\" 200 -\n",
      "127.0.0.1 - - [18/Nov/2023 17:59:24] \"GET /get_similar_games?query=[object%20Object] HTTP/1.1\" 200 -\n",
      "127.0.0.1 - - [18/Nov/2023 17:59:49] \"GET /get_similar_games?query=[object%20Object] HTTP/1.1\" 200 -\n",
      "127.0.0.1 - - [18/Nov/2023 17:59:54] \"GET /get_similar_games?query=[object%20Object] HTTP/1.1\" 200 -\n",
      "127.0.0.1 - - [18/Nov/2023 18:04:01] \"GET /get_similar_games?query=initial_query HTTP/1.1\" 200 -\n",
      "127.0.0.1 - - [18/Nov/2023 18:04:12] \"GET /get_similar_games?query=game HTTP/1.1\" 200 -\n",
      "127.0.0.1 - - [18/Nov/2023 18:04:31] \"GET /get_similar_games?query=battle%20royale HTTP/1.1\" 200 -\n",
      "127.0.0.1 - - [18/Nov/2023 18:04:54] \"GET /get_similar_games?query=initial_query HTTP/1.1\" 200 -\n",
      "127.0.0.1 - - [18/Nov/2023 18:05:06] \"GET /get_similar_games?query=battle%20royale HTTP/1.1\" 200 -\n",
      "127.0.0.1 - - [18/Nov/2023 18:05:16] \"GET /get_similar_games?query=farming%20simulator HTTP/1.1\" 200 -\n",
      "127.0.0.1 - - [18/Nov/2023 18:05:26] \"GET /get_similar_games?query=About%20This%20Game%20The%20Bestselling%20Car%20Mechanic%20Simulator%20series%20goes%20to%20a%20new%20level!Car%20Mechanic%20Simulator%202018%20challenges%20players%20to%20repair,%20paint,%20tune%20and%20drive%20cars.Find%20classic,%20unique%20cars%20in%20the%20new%20Barn%20Find%20module%20and%20Junkyard%20module.%20You%20can%20even%20add%20your%20self-made%20car%20in%20the%20Car%20Editor.Build%20and%20expand%20your%20repair%20service%20empire%20in%20this%20incredibly%20detailed%20and%20highly%20realistic%20simulation%20game,%20where%20attention%20to%20car%20detail%20is%20astonishing.All%20this%20with%20new,%20photorealistic%20graphics.%20Featuring%20more%20cars%20(40+),%20more%20tools%20(10+),%20more%20options%20and%20more%20parts%20(1000+)%20than%20ever%20before.%20Its%20time%20to%20roll%20up%20your%20sleeves%20and%20get%20to%20work!Car%20Mechanic%20Simulator%202018%20also%20includes%20car%20auctions%20where%20old%20cars%20are%20available%20for%20resale%20or%20purchased%20for%20your%20collection.%20With%20the%20inclusion%20of%20photo-mode,%20you%20can%20take%20stunning%20before%20and%20after%20photos,%20and%20the%20games%20infinite%20number%20of%20randomly%20generated%20missions%20will%20keep%20you%20more%20than%20busy%20(and%20dirty).Each%20mission%20offers%20its%20own%20unique%20challenge%20of%20varying%20difficulty%20and%20time%20constraints%20to%20meet.%20Additional%20tools%20are%20available%20for%20purchase%20if%20needed.%20You%20can%20eventually%20upgrade%20your%20garage%20to%20include%20specific%20equipment%20such%20as%20lacquer%20sprayer%20or%20a%20parts%20warehouse.Features%20of%20Car%20Mechanic%20Simulator%202018photorealistic%20graphics40+%20cars%20to%20get%20your%20hands%20dirty%20with10+%20tools%20to%20help%20you%20check%20out%20cars1000+%20parts%20waiting%20for%20youstart%20from%20a%20small%20workshop%20and%20upgrade%20it%20to%20a%20full%20sized%203-lifter%20gemmix%20of%20randomly%20generated%20jobs%20to%20fulfillendless%20gameplaymultilevel%20car%20parking%20in%20which%20you%20can%20store%20you%20carsAdvanced%20Upgrades%20System%20(level%20up%20and%20spend%20your%20points%20to%20upgrades)Path%20Test%20to%20test%20car%20suspensionTest%20Track%20to%20test%20car%20condition%20(or%20just%20fool%20around)Race%20Track%20to%20test%20car%20performanceCar%20Auctions%20where%20you%20can%20compete%20with%20other%20bidders%20and%20try%20to%20outbid%20themCar%20Paint%20Shop%20with%20different%20paint%20types%20and%20car%20liveries%20(or%20you%20can%20just%20paint%20one%20part%20to%20save%20money)Barn%20Finds,%20where%20you%20search%20for%20abandoned%20cars%20in%20barns%20-%20make%20sure%20to%20look%20there%20for%20partsJunkyard%20(scavenge%20for%20parts%20and%20rusty%20cars)Car%20Editor%20for%20modders%20(add%20your%20cars%20to%20the%20game!)New%20Features%20since%20CMS%202015seats,%20steering%20wheels%20and%20benches%20are%20exchangeablecar%20windows%20are%20now%20parts%20toonew%20repair%20system%20(smarter%20way%20to%20repair%20parts)parts%20warehouse%20(you%20can%20store%20your%20parts%20in%20a%20warehouse%20now)sheds%20(Barn%20Find%20module)separated%20tires%20and%20rims%20(you%20can%20place%20any%20tire%20and%20rim%20you%20want)new%20working%20shock%20absorber%20toolnew%20working%20battery%20chargernew%20working%20wheel%20balancer%20and%20changerrace%20track%20(next%20to%20test%20track,%20there%20is%20a%20race%20track%20with%20a%20timer)new%20physics%20system%20(much%20more%20complex)car%20liveries%20(you%20can%20apply%20liveries%20to%20your%20car)redone%20paint%20system%20(you%20can%20paint%20each%20part%20separately,%20choose%20the%20paint%20type%20matt,%20metallic,%20pearl)modding%20support%20from%20day%201%20(place%20your%20own%20cars%20in%20the%20game)customizable%20license%20plates%20(with%20modding%20support)customizable%20game%20music%20(with%20user%20music)engine%20crane%20(tired%20of%20lifting%20your%20car%20up%20and%20down%20to%20disassemble%20engine)creating%20new%20engines%20on%20the%20crane%20(starting%20from%20scratch)leveling%20system%20(XP%20with%20upgrades)new%20car%20salon%20(you%20can%20buy%20brand%20new%20cars)liquids%20in%20carstory%20orders%20(pregenerated%20like%20in%20CMS%202014)%20next%20to%20generated%20orders%20(like%20in%20CMS%202015)all%20new%20UI%20and%20easier%20controls%20(with%20rebind)pad%20support...%20and%20much,%20much%20moreOfficial%20licensed%20brands%20coming%20up%20in%20DLCsMercedesMaseratiDeLoreanPaganiBentleyDodgePlymouthChryslerJeepRamLotusMazda...%20and%20moreCheck%20out%20more%20great%20games%20published%20by%20PlayWay HTTP/1.1\" 200 -\n",
      "127.0.0.1 - - [18/Nov/2023 18:05:56] \"GET /get_similar_games?query=math%20game HTTP/1.1\" 200 -\n",
      "127.0.0.1 - - [18/Nov/2023 18:06:06] \"GET /get_similar_games?query=About%20This%20Game%20A%20real%20living%20board%20A%20full%203D%20city%20at%20the%20center%20of%20the%20board%20lives%20and%20evolves%20as%20you%20play.%20You%20own%20a%20miniature%20world%20where%20each%20neighborhood%20has%20its%20own%20unique%20identity%20and%20characteristics.%20Its%20friendly%20inhabitants%20will%20interact%20with%20your%20progression%20throughout%20the%20game%20and%20celebrate%20your%20achievements,%20bringing%20a%20new%20dimension%20to%20your%20experience.%20%20Feel%20that%20you%20own%20something%20special%20and%20admire%20your%20empire%20grow%20right%20in%20front%20of%20your%20eyes!Play%20the%20way%20you%20want%20You%20can%20change%20the%20rules%20and%20adapt%20them%20to%20your%20playing%20style.%20Play%20the%20famous%20Speed%20Die%20mode%20to%20spice%20up%20your%20game%20or%20select%20from%20a%20catalogue%20of%206%20house%20rules%20chosen%20by%20Monopoly%20community%20members%20from%20around%20the%20world! HTTP/1.1\" 200 -\n",
      "127.0.0.1 - - [18/Nov/2023 18:06:11] \"GET /get_similar_games?query=About%20This%20Game%20What%20is%20it?5D%20Chess%20With%20Multiverse%20Time%20Travel%20the%20first%20ever%20chess%20variant%20with%20spatial,%20temporal,%20and%20parallel%20dimensions.%20Its%20the%20first%20ever%20chess%20variant%20with%20multiverse%20time%20travel!Features%20Sharpen%20your%20tactics%20by%20solving%20a%20collection%20of%20multiverse%20chess%20puzzles.%20Practice%20against%20four%20different%20AI%20personalities,%20each%20with%20different%20strengths%20and%20styles.%20Try%20out%20a%20variety%20of%20different%20starting%20positions%20and%20scenarios.%20Play%20online%20with%20your%20friends%20or%20against%20strangers.More%20Features%20Learn%20as%20you%20go.%20An%20intuitive%20interface%20makes%20experiementation%20quick%20and%20easy.%20Visualize%20how%20your%20pieces%20move%20with%20highly-polished%20diagrams%20and%20views.Buy%20it!%20Show%20your%20friends! HTTP/1.1\" 200 -\n",
      "127.0.0.1 - - [18/Nov/2023 18:06:16] \"GET /get_similar_games?query=About%20This%20Game%20A%20real%20living%20board%20A%20full%203D%20city%20at%20the%20center%20of%20the%20board%20lives%20and%20evolves%20as%20you%20play.%20You%20own%20a%20miniature%20world%20where%20each%20neighborhood%20has%20its%20own%20unique%20identity%20and%20characteristics.%20Its%20friendly%20inhabitants%20will%20interact%20with%20your%20progression%20throughout%20the%20game%20and%20celebrate%20your%20achievements,%20bringing%20a%20new%20dimension%20to%20your%20experience.%20%20Feel%20that%20you%20own%20something%20special%20and%20admire%20your%20empire%20grow%20right%20in%20front%20of%20your%20eyes!Play%20the%20way%20you%20want%20You%20can%20change%20the%20rules%20and%20adapt%20them%20to%20your%20playing%20style.%20Play%20the%20famous%20Speed%20Die%20mode%20to%20spice%20up%20your%20game%20or%20select%20from%20a%20catalogue%20of%206%20house%20rules%20chosen%20by%20Monopoly%20community%20members%20from%20around%20the%20world! HTTP/1.1\" 200 -\n",
      "127.0.0.1 - - [18/Nov/2023 18:06:22] \"GET /get_similar_games?query=About%20This%20Game%20The%20Flagship%20Turn-Based%20Strategy%20Game%20ReturnsBecome%20Ruler%20of%20the%20World%20by%20establishing%20and%20leading%20a%20civilization%20from%20the%20dawn%20of%20man%20into%20the%20space%20age%20Wage%20war,%20conduct%20diplomacy,%20discover%20new%20technologies,%20go%20head-to-head%20with%20some%20of%20historys%20greatest%20leaders%20and%20build%20the%20most%20powerful%20empire%20the%20world%20has%20ever%20known.INVITING%20PRESENTATION%20Jump%20right%20in%20and%20play%20at%20your%20own%20pace%20with%20an%20intuitive%20interface%20that%20eases%20new%20players%20into%20the%20game.%20Veterans%20will%20appreciate%20the%20depth,%20detail%20and%20control%20that%20are%20highlights%20of%20the%20series.BELIEVABLE%20WORLD%20Ultra%20realistic%20graphics%20showcase%20lush%20landscapes%20for%20you%20to%20explore,%20battle%20over%20and%20claim%20as%20your%20own.%20COMMUNITY%20&%20MULTIPLAYER%20Compete%20with%20players%20all%20over%20the%20world%20or%20locally%20in%20LAN%20matches,%20mod*%20the%20game%20in%20unprecedented%20ways,%20and%20install%20mods%20directly%20from%20an%20in-game%20community%20hub%20without%20ever%20leaving%20the%20game.%20WIDE%20SYSTEM%20COMPATIBILITY%20Civilization%20V%20operates%20on%20many%20different%20systems,%20from%20high%20end%20desktops%20to%20many%20laptops.%20ALL%20NEW%20FEATURES%20A%20new%20hex-based%20gameplay%20grid%20opens%20up%20exciting%20new%20combat%20and%20build%20strategies.%20City%20States%20become%20a%20new%20resource%20in%20your%20diplomatic%20battleground.%20An%20improved%20diplomacy%20system%20allows%20you%20to%20negotiate%20with%20fully%20interactive%20leaders.%20*Modding%20SDK%20available%20as%20a%20free%20download.%20%20%20%20Note%20The%20Mac%20and%20Linux%20+%20SteamOS%20versions%20of%20Sid%20Meiers%20Civilization%20V%20are%20available%20in%20English,%20French,%20Italian,%20German%20and%20Spanish%20only. HTTP/1.1\" 200 -\n",
      "127.0.0.1 - - [18/Nov/2023 18:06:23] \"GET /get_similar_games?query=About%20This%20Game%20A%20real%20living%20board%20A%20full%203D%20city%20at%20the%20center%20of%20the%20board%20lives%20and%20evolves%20as%20you%20play.%20You%20own%20a%20miniature%20world%20where%20each%20neighborhood%20has%20its%20own%20unique%20identity%20and%20characteristics.%20Its%20friendly%20inhabitants%20will%20interact%20with%20your%20progression%20throughout%20the%20game%20and%20celebrate%20your%20achievements,%20bringing%20a%20new%20dimension%20to%20your%20experience.%20%20Feel%20that%20you%20own%20something%20special%20and%20admire%20your%20empire%20grow%20right%20in%20front%20of%20your%20eyes!Play%20the%20way%20you%20want%20You%20can%20change%20the%20rules%20and%20adapt%20them%20to%20your%20playing%20style.%20Play%20the%20famous%20Speed%20Die%20mode%20to%20spice%20up%20your%20game%20or%20select%20from%20a%20catalogue%20of%206%20house%20rules%20chosen%20by%20Monopoly%20community%20members%20from%20around%20the%20world! HTTP/1.1\" 200 -\n",
      "127.0.0.1 - - [18/Nov/2023 18:06:30] \"GET /get_similar_games?query=About%20This%20Game%20The%20Flagship%20Turn-Based%20Strategy%20Game%20ReturnsBecome%20Ruler%20of%20the%20World%20by%20establishing%20and%20leading%20a%20civilization%20from%20the%20dawn%20of%20man%20into%20the%20space%20age%20Wage%20war,%20conduct%20diplomacy,%20discover%20new%20technologies,%20go%20head-to-head%20with%20some%20of%20historys%20greatest%20leaders%20and%20build%20the%20most%20powerful%20empire%20the%20world%20has%20ever%20known.INVITING%20PRESENTATION%20Jump%20right%20in%20and%20play%20at%20your%20own%20pace%20with%20an%20intuitive%20interface%20that%20eases%20new%20players%20into%20the%20game.%20Veterans%20will%20appreciate%20the%20depth,%20detail%20and%20control%20that%20are%20highlights%20of%20the%20series.BELIEVABLE%20WORLD%20Ultra%20realistic%20graphics%20showcase%20lush%20landscapes%20for%20you%20to%20explore,%20battle%20over%20and%20claim%20as%20your%20own.%20COMMUNITY%20&%20MULTIPLAYER%20Compete%20with%20players%20all%20over%20the%20world%20or%20locally%20in%20LAN%20matches,%20mod*%20the%20game%20in%20unprecedented%20ways,%20and%20install%20mods%20directly%20from%20an%20in-game%20community%20hub%20without%20ever%20leaving%20the%20game.%20WIDE%20SYSTEM%20COMPATIBILITY%20Civilization%20V%20operates%20on%20many%20different%20systems,%20from%20high%20end%20desktops%20to%20many%20laptops.%20ALL%20NEW%20FEATURES%20A%20new%20hex-based%20gameplay%20grid%20opens%20up%20exciting%20new%20combat%20and%20build%20strategies.%20City%20States%20become%20a%20new%20resource%20in%20your%20diplomatic%20battleground.%20An%20improved%20diplomacy%20system%20allows%20you%20to%20negotiate%20with%20fully%20interactive%20leaders.%20*Modding%20SDK%20available%20as%20a%20free%20download.%20%20%20%20Note%20The%20Mac%20and%20Linux%20+%20SteamOS%20versions%20of%20Sid%20Meiers%20Civilization%20V%20are%20available%20in%20English,%20French,%20Italian,%20German%20and%20Spanish%20only. HTTP/1.1\" 200 -\n"
     ]
    }
   ],
   "source": [
    "# create a simple flask endpoint to serve the five most similar games\n",
    "from flask import Flask, request, jsonify\n",
    "app = Flask(__name__)\n",
    "\n",
    "# allow cross origin requests from any domain\n",
    "from flask_cors import CORS\n",
    "CORS(app)\n",
    "\n",
    "@app.route('/get_similar_games', methods=['GET'])\n",
    "def get_similar_games():\n",
    "    query = request.args.get('query')\n",
    "    out = cursor.query(f\"\"\"\n",
    "    SELECT * FROM games ORDER BY Similarity(EmbedText('{query}'), EmbedText(full_desc)) LIMIT 15;\n",
    "    \"\"\").df()\n",
    "    out_recs = out.to_dict(orient=\"records\")\n",
    "    # replace every url with https with https: (BC EVADB) doesn't let me insert w/ ?\n",
    "    for rec in out_recs:\n",
    "        rec[\"img_url\"] = rec[\"img_url\"].replace(\"https\", \"https:\")\n",
    "        rec[\"url_info\"] = rec[\"url_info\"].replace(\"https\", \"https:\")\n",
    "    return jsonify(out_recs)\n",
    "\n",
    "app.run(host=\"localhost\", port=5000)\n",
    "\n",
    "# this can be accessed as follows: http://localhost:5000/get_similar_games?query=fast-paced%20action%20game"
   ]
  }
 ],
 "metadata": {
  "kernelspec": {
   "display_name": "steam-games-mWAKNGq7-py3.10",
   "language": "python",
   "name": "python3"
  },
  "language_info": {
   "codemirror_mode": {
    "name": "ipython",
    "version": 3
   },
   "file_extension": ".py",
   "mimetype": "text/x-python",
   "name": "python",
   "nbconvert_exporter": "python",
   "pygments_lexer": "ipython3",
   "version": "3.10.12"
  }
 },
 "nbformat": 4,
 "nbformat_minor": 2
}
