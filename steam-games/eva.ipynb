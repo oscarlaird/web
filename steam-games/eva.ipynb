{
 "cells": [
  {
   "cell_type": "code",
   "execution_count": 2,
   "metadata": {},
   "outputs": [
    {
     "name": "stderr",
     "output_type": "stream",
     "text": [
      "/home/oscar/.cache/pypoetry/virtualenvs/steam-games-mWAKNGq7-py3.10/lib/python3.10/site-packages/tqdm/auto.py:21: TqdmWarning: IProgress not found. Please update jupyter and ipywidgets. See https://ipywidgets.readthedocs.io/en/stable/user_install.html\n",
      "  from .autonotebook import tqdm as notebook_tqdm\n"
     ]
    },
    {
     "name": "stdout",
     "output_type": "stream",
     "text": [
      "(1, 384)\n"
     ]
    }
   ],
   "source": [
    "import json\n",
    "from pathlib import Path\n",
    "\n",
    "# import dotenv\n",
    "# dotenv.load_dotenv(\"/home/oscar/nlitp/eva_proof_server/.env\")\n",
    "\n",
    "import sentence_transformers  # dependency for sentence_feature_extractor.py\n",
    "# check that we can use sentence_transformers\n",
    "print(sentence_transformers.SentenceTransformer('all-MiniLM-L6-v2').encode(['hello world']).shape)\n",
    "# import openai  # dependency for chatgpt.py\n",
    "import evadb\n",
    "cursor = evadb.connect(evadb_dir=Path(\"./eva_db\")).cursor()"
   ]
  },
  {
   "cell_type": "code",
   "execution_count": 3,
   "metadata": {},
   "outputs": [
    {
     "data": {
      "text/html": [
       "<div>\n",
       "<style scoped>\n",
       "    .dataframe tbody tr th:only-of-type {\n",
       "        vertical-align: middle;\n",
       "    }\n",
       "\n",
       "    .dataframe tbody tr th {\n",
       "        vertical-align: top;\n",
       "    }\n",
       "\n",
       "    .dataframe thead th {\n",
       "        text-align: right;\n",
       "    }\n",
       "</style>\n",
       "<table border=\"1\" class=\"dataframe\">\n",
       "  <thead>\n",
       "    <tr style=\"text-align: right;\">\n",
       "      <th></th>\n",
       "      <th>features</th>\n",
       "    </tr>\n",
       "  </thead>\n",
       "  <tbody>\n",
       "    <tr>\n",
       "      <th>0</th>\n",
       "      <td>[[-0.03447732, 0.031023178, 0.0067349477, 0.02...</td>\n",
       "    </tr>\n",
       "  </tbody>\n",
       "</table>\n",
       "</div>"
      ],
      "text/plain": [
       "                                            features\n",
       "0  [[-0.03447732, 0.031023178, 0.0067349477, 0.02..."
      ]
     },
     "execution_count": 3,
     "metadata": {},
     "output_type": "execute_result"
    }
   ],
   "source": [
    "# %cd /home/oscar/nlitp/evaF2F\n",
    "# Register the function as embed text\n",
    "cursor.query(\"\"\"\n",
    "DROP FUNCTION IF EXISTS EmbedText\n",
    "\"\"\").df()\n",
    "cursor.query(\"\"\"\n",
    "CREATE FUNCTION EmbedText IMPL './sentence_feature_extractor.py'\n",
    "\"\"\").df()\n",
    "cursor.query(\"\"\"\n",
    "SELECT EmbedText('hello world')\n",
    "\"\"\").df()"
   ]
  },
  {
   "cell_type": "code",
   "execution_count": 49,
   "metadata": {},
   "outputs": [
    {
     "data": {
      "text/html": [
       "<div>\n",
       "<style scoped>\n",
       "    .dataframe tbody tr th:only-of-type {\n",
       "        vertical-align: middle;\n",
       "    }\n",
       "\n",
       "    .dataframe tbody tr th {\n",
       "        vertical-align: top;\n",
       "    }\n",
       "\n",
       "    .dataframe thead th {\n",
       "        text-align: right;\n",
       "    }\n",
       "</style>\n",
       "<table border=\"1\" class=\"dataframe\">\n",
       "  <thead>\n",
       "    <tr style=\"text-align: right;\">\n",
       "      <th></th>\n",
       "    </tr>\n",
       "  </thead>\n",
       "  <tbody>\n",
       "  </tbody>\n",
       "</table>\n",
       "</div>"
      ],
      "text/plain": [
       "Empty DataFrame\n",
       "Columns: []\n",
       "Index: []"
      ]
     },
     "execution_count": 49,
     "metadata": {},
     "output_type": "execute_result"
    }
   ],
   "source": [
    "# add the data to evadb from games.db\n",
    "# we will just copy the data from games.db to evadb\n",
    "# create the games table\n",
    "cursor.query(\"\"\"\n",
    "DROP TABLE IF EXISTS games\n",
    "\"\"\").df()\n",
    "cursor.query(\"\"\"\n",
    "CREATE TABLE games (\n",
    "            name TEXT(0),\n",
    "            img_url TEXT(0),\n",
    "            date TEXT(0),\n",
    "            developer TEXT(0),\n",
    "            full_desc TEXT(0),\n",
    "            price TEXT(0),\n",
    "            url_info TEXT(0)\n",
    "            )\"\"\"\n",
    ").df()\n",
    "cursor.query(\"\"\"\n",
    "SELECT * FROM games\n",
    "\"\"\").df()\n"
   ]
  },
  {
   "cell_type": "code",
   "execution_count": 50,
   "metadata": {},
   "outputs": [
    {
     "name": "stderr",
     "output_type": "stream",
     "text": [
      "1001it [00:29, 33.89it/s]\n"
     ]
    }
   ],
   "source": [
    "\n",
    "# copy the data from games.db to evadb\n",
    "# connect to games.db with sqlite3\n",
    "import sqlite3\n",
    "conn = sqlite3.connect(\"games.db\")\n",
    "c = conn.cursor()\n",
    "# get the data from games.db\n",
    "c.execute(\"SELECT * FROM games\")\n",
    "games = c.fetchall()\n",
    "# insert the data into evadb\n",
    "from tqdm import tqdm   \n",
    "for i, game in tqdm(enumerate(games)):\n",
    "    if i > 1000:\n",
    "        break\n",
    "    game = list(game)\n",
    "    for i in range(len(game)):\n",
    "        game[i] = game[i].replace(\"'\", \"\").replace('\"', '').replace(\"{\", \"{\").replace(\"}\", \"}\").replace(\";\", \"\").replace(\":\", \"\")#.replace(\"(\", \"\").replace(\")\", \"\")\n",
    "    cursor.query(f\"\"\"\n",
    "    INSERT INTO games (name, img_url, date, developer, full_desc, price, url_info)\n",
    "    VALUES ('{game[0]}', '{game[1]}', '{game[2]}', '{game[3]}', '{game[4]}', '{game[5]}', '{game[6]}')\n",
    "    \"\"\").df()\n",
    "# check that the data is there\n",
    "out = cursor.query(\"\"\"\n",
    "SELECT * FROM games\n",
    "\"\"\").df()"
   ]
  },
  {
   "cell_type": "code",
   "execution_count": 54,
   "metadata": {},
   "outputs": [
    {
     "data": {
      "text/plain": [
       "{'_row_id': 101,\n",
       " 'name': 'Among Us - Mini Crewmate Bundle',\n",
       " 'img_url': 'https//steamcdn-a.akamaihd.net/steam/apps/971996/header.jpg?t=1559936187',\n",
       " 'date': 'Jun 7, 2019',\n",
       " 'developer': 'Innersloth',\n",
       " 'full_desc': 'About This Content  A mini you! A robotic friend? Includes the Mini Crewmate and Robot! (Only one pet can be equipped at a time) Support Among Us servers and Innersloth!',\n",
       " 'price': '299',\n",
       " 'url_info': 'https//store.steampowered.com/app/971996/Among_Us__Mini_Crewmate_Bundle/?snr=1_7_7_230_150_1'}"
      ]
     },
     "execution_count": 54,
     "metadata": {},
     "output_type": "execute_result"
    }
   ],
   "source": [
    "cursor.query(\"\"\"\n",
    "SELECT * FROM games\n",
    "\"\"\").df().iloc[100].to_dict()"
   ]
  },
  {
   "cell_type": "code",
   "execution_count": 55,
   "metadata": {},
   "outputs": [
    {
     "name": "stderr",
     "output_type": "stream",
     "text": [
      "11-18-2023 16:44:18 WARNING[drop_object_executor:drop_object_executor.py:_handle_drop_index:0113] Index game_vector_idx does not exist, therefore cannot be dropped.\n",
      "/home/oscar/.cache/pypoetry/virtualenvs/steam-games-mWAKNGq7-py3.10/lib/python3.10/site-packages/sentence_transformers/SentenceTransformer.py:157: FutureWarning: Series.__getitem__ treating keys as positions is deprecated. In a future version, integer keys will always be treated as labels (consistent with DataFrame behavior). To access a value by position, use `ser.iloc[pos]`\n",
      "  sentences_sorted = [sentences[idx] for idx in length_sorted_idx]\n"
     ]
    },
    {
     "data": {
      "text/html": [
       "<div>\n",
       "<style scoped>\n",
       "    .dataframe tbody tr th:only-of-type {\n",
       "        vertical-align: middle;\n",
       "    }\n",
       "\n",
       "    .dataframe tbody tr th {\n",
       "        vertical-align: top;\n",
       "    }\n",
       "\n",
       "    .dataframe thead th {\n",
       "        text-align: right;\n",
       "    }\n",
       "</style>\n",
       "<table border=\"1\" class=\"dataframe\">\n",
       "  <thead>\n",
       "    <tr style=\"text-align: right;\">\n",
       "      <th></th>\n",
       "      <th>0</th>\n",
       "    </tr>\n",
       "  </thead>\n",
       "  <tbody>\n",
       "    <tr>\n",
       "      <th>0</th>\n",
       "      <td>Index game_vector_idx successfully added to th...</td>\n",
       "    </tr>\n",
       "  </tbody>\n",
       "</table>\n",
       "</div>"
      ],
      "text/plain": [
       "                                                   0\n",
       "0  Index game_vector_idx successfully added to th..."
      ]
     },
     "execution_count": 55,
     "metadata": {},
     "output_type": "execute_result"
    }
   ],
   "source": [
    "# create a vector index using faiss\n",
    "cursor.query(\"\"\"\n",
    "DROP INDEX IF EXISTS game_vector_idx\n",
    "\"\"\").df()\n",
    "# CREATE INDEX [index_name]\n",
    "# ON [table_name] ([function_name]([column_name]))\n",
    "# USING [index_method]\n",
    "cursor.query(\"\"\"\n",
    "CREATE INDEX game_vector_idx\n",
    "ON games (EmbedText(games.full_desc))\n",
    "USING FAISS\n",
    "\"\"\").df()"
   ]
  },
  {
   "cell_type": "code",
   "execution_count": 60,
   "metadata": {},
   "outputs": [
    {
     "data": {
      "text/html": [
       "<div>\n",
       "<style scoped>\n",
       "    .dataframe tbody tr th:only-of-type {\n",
       "        vertical-align: middle;\n",
       "    }\n",
       "\n",
       "    .dataframe tbody tr th {\n",
       "        vertical-align: top;\n",
       "    }\n",
       "\n",
       "    .dataframe thead th {\n",
       "        text-align: right;\n",
       "    }\n",
       "</style>\n",
       "<table border=\"1\" class=\"dataframe\">\n",
       "  <thead>\n",
       "    <tr style=\"text-align: right;\">\n",
       "      <th></th>\n",
       "      <th>_row_id</th>\n",
       "      <th>name</th>\n",
       "      <th>img_url</th>\n",
       "      <th>date</th>\n",
       "      <th>developer</th>\n",
       "      <th>full_desc</th>\n",
       "      <th>price</th>\n",
       "      <th>url_info</th>\n",
       "    </tr>\n",
       "  </thead>\n",
       "  <tbody>\n",
       "    <tr>\n",
       "      <th>0</th>\n",
       "      <td>538</td>\n",
       "      <td>Pistol Whip</td>\n",
       "      <td>https//steamcdn-a.akamaihd.net/steam/apps/1079...</td>\n",
       "      <td>Nov 7, 2019</td>\n",
       "      <td>Cloudhead Games ltd.</td>\n",
       "      <td>About This Game Inspired by God-mode action mo...</td>\n",
       "      <td>249</td>\n",
       "      <td>https//store.steampowered.com/app/1079800/Pist...</td>\n",
       "    </tr>\n",
       "    <tr>\n",
       "      <th>1</th>\n",
       "      <td>464</td>\n",
       "      <td>Combat Mission Shock Force 2</td>\n",
       "      <td>https//steamcdn-a.akamaihd.net/steam/apps/1369...</td>\n",
       "      <td>Aug 31, 2020</td>\n",
       "      <td>Battlefront</td>\n",
       "      <td>About This Game The latest title in the famous...</td>\n",
       "      <td>599</td>\n",
       "      <td>https//store.steampowered.com/app/1369370/Comb...</td>\n",
       "    </tr>\n",
       "    <tr>\n",
       "      <th>2</th>\n",
       "      <td>388</td>\n",
       "      <td>Zero Caliber VR</td>\n",
       "      <td>https//steamcdn-a.akamaihd.net/steam/apps/8772...</td>\n",
       "      <td>Nov 9, 2018</td>\n",
       "      <td>XREAL Games</td>\n",
       "      <td>About This Game   ABOUT THIS GAMEZero Caliber ...</td>\n",
       "      <td>249</td>\n",
       "      <td>https//store.steampowered.com/app/877200/Zero_...</td>\n",
       "    </tr>\n",
       "    <tr>\n",
       "      <th>3</th>\n",
       "      <td>951</td>\n",
       "      <td>Need for Speed™ Most Wanted</td>\n",
       "      <td>https//steamcdn-a.akamaihd.net/steam/apps/1262...</td>\n",
       "      <td>Oct 30, 2012</td>\n",
       "      <td>Criterion Games</td>\n",
       "      <td>About This Game The open-world action in Need ...</td>\n",
       "      <td>499</td>\n",
       "      <td>https//store.steampowered.com/app/1262560/Need...</td>\n",
       "    </tr>\n",
       "    <tr>\n",
       "      <th>4</th>\n",
       "      <td>857</td>\n",
       "      <td>Need for Speed™ Payback</td>\n",
       "      <td>https//steamcdn-a.akamaihd.net/steam/apps/1262...</td>\n",
       "      <td>Nov 6, 2017</td>\n",
       "      <td>Ghost Games</td>\n",
       "      <td>About This Game Set in the underworld of Fortu...</td>\n",
       "      <td>499</td>\n",
       "      <td>https//store.steampowered.com/app/1262580/Need...</td>\n",
       "    </tr>\n",
       "  </tbody>\n",
       "</table>\n",
       "</div>"
      ],
      "text/plain": [
       "   _row_id                          name  \\\n",
       "0      538                   Pistol Whip   \n",
       "1      464  Combat Mission Shock Force 2   \n",
       "2      388               Zero Caliber VR   \n",
       "3      951   Need for Speed™ Most Wanted   \n",
       "4      857       Need for Speed™ Payback   \n",
       "\n",
       "                                             img_url          date  \\\n",
       "0  https//steamcdn-a.akamaihd.net/steam/apps/1079...   Nov 7, 2019   \n",
       "1  https//steamcdn-a.akamaihd.net/steam/apps/1369...  Aug 31, 2020   \n",
       "2  https//steamcdn-a.akamaihd.net/steam/apps/8772...   Nov 9, 2018   \n",
       "3  https//steamcdn-a.akamaihd.net/steam/apps/1262...  Oct 30, 2012   \n",
       "4  https//steamcdn-a.akamaihd.net/steam/apps/1262...   Nov 6, 2017   \n",
       "\n",
       "              developer                                          full_desc  \\\n",
       "0  Cloudhead Games ltd.  About This Game Inspired by God-mode action mo...   \n",
       "1           Battlefront  About This Game The latest title in the famous...   \n",
       "2           XREAL Games  About This Game   ABOUT THIS GAMEZero Caliber ...   \n",
       "3       Criterion Games  About This Game The open-world action in Need ...   \n",
       "4           Ghost Games  About This Game Set in the underworld of Fortu...   \n",
       "\n",
       "  price                                           url_info  \n",
       "0   249  https//store.steampowered.com/app/1079800/Pist...  \n",
       "1   599  https//store.steampowered.com/app/1369370/Comb...  \n",
       "2   249  https//store.steampowered.com/app/877200/Zero_...  \n",
       "3   499  https//store.steampowered.com/app/1262560/Need...  \n",
       "4   499  https//store.steampowered.com/app/1262580/Need...  "
      ]
     },
     "execution_count": 60,
     "metadata": {},
     "output_type": "execute_result"
    }
   ],
   "source": [
    "test_query = \"fast-paced action game\"\n",
    "cursor.query(f\"\"\"\n",
    "SELECT * FROM games ORDER BY Similarity(EmbedText('{test_query}'), EmbedText(full_desc)) LIMIT 05;\n",
    "\"\"\").df()"
   ]
  },
  {
   "cell_type": "code",
   "execution_count": 64,
   "metadata": {},
   "outputs": [
    {
     "name": "stdout",
     "output_type": "stream",
     "text": [
      " * Serving Flask app '__main__'\n",
      " * Debug mode: off\n"
     ]
    },
    {
     "name": "stderr",
     "output_type": "stream",
     "text": [
      "\u001b[31m\u001b[1mWARNING: This is a development server. Do not use it in a production deployment. Use a production WSGI server instead.\u001b[0m\n",
      " * Running on http://localhost:5000\n",
      "\u001b[33mPress CTRL+C to quit\u001b[0m\n",
      "127.0.0.1 - - [18/Nov/2023 17:14:33] \"GET /get_similar_games?query=competitive%20battle%20royale HTTP/1.1\" 200 -\n",
      "127.0.0.1 - - [18/Nov/2023 17:14:36] \"GET /get_similar_games?query=competitive%20battle%20royaler HTTP/1.1\" 200 -\n",
      "127.0.0.1 - - [18/Nov/2023 17:14:55] \"GET /get_similar_games?query=[object%20Object] HTTP/1.1\" 200 -\n",
      "127.0.0.1 - - [18/Nov/2023 17:15:51] \"GET /get_similar_games?query=[object%20Object] HTTP/1.1\" 200 -\n",
      "127.0.0.1 - - [18/Nov/2023 17:15:53] \"GET /get_similar_games?query=[object%20Object] HTTP/1.1\" 200 -\n",
      "127.0.0.1 - - [18/Nov/2023 17:16:33] \"GET /get_similar_games?query=[object%20Object] HTTP/1.1\" 200 -\n",
      "127.0.0.1 - - [18/Nov/2023 17:17:05] \"GET /get_similar_games?query=[object%20Object] HTTP/1.1\" 200 -\n",
      "127.0.0.1 - - [18/Nov/2023 17:17:08] \"GET /get_similar_games?query=[object%20Object] HTTP/1.1\" 200 -\n",
      "127.0.0.1 - - [18/Nov/2023 17:18:06] \"GET /get_similar_games?query=[object%20Object] HTTP/1.1\" 200 -\n",
      "127.0.0.1 - - [18/Nov/2023 17:18:26] \"GET /get_similar_games?query=[object%20Object] HTTP/1.1\" 200 -\n",
      "127.0.0.1 - - [18/Nov/2023 17:19:07] \"GET /get_similar_games?query=[object%20Object] HTTP/1.1\" 200 -\n",
      "127.0.0.1 - - [18/Nov/2023 17:19:30] \"GET /get_similar_games?query=[object%20Object] HTTP/1.1\" 200 -\n",
      "127.0.0.1 - - [18/Nov/2023 17:19:32] \"GET /get_similar_games?query=[object%20Object] HTTP/1.1\" 200 -\n",
      "127.0.0.1 - - [18/Nov/2023 17:20:38] \"GET /get_similar_games?query=competitive%20battle%20royaler HTTP/1.1\" 200 -\n",
      "127.0.0.1 - - [18/Nov/2023 17:23:20] \"GET /get_similar_games?query=[object%20Object] HTTP/1.1\" 200 -\n",
      "127.0.0.1 - - [18/Nov/2023 17:24:37] \"GET /get_similar_games?query=[object%20Object] HTTP/1.1\" 200 -\n",
      "127.0.0.1 - - [18/Nov/2023 17:24:41] \"GET /get_similar_games?query=[object%20Object] HTTP/1.1\" 200 -\n",
      "127.0.0.1 - - [18/Nov/2023 17:25:56] \"GET /get_similar_games?query=[object%20Object] HTTP/1.1\" 200 -\n",
      "127.0.0.1 - - [18/Nov/2023 17:25:59] \"GET /get_similar_games?query=[object%20Object] HTTP/1.1\" 200 -\n",
      "127.0.0.1 - - [18/Nov/2023 17:26:33] \"GET /get_similar_games?query=[object%20Object] HTTP/1.1\" 200 -\n"
     ]
    }
   ],
   "source": [
    "# create a simple flask endpoint to serve the five most similar games\n",
    "from flask import Flask, request, jsonify\n",
    "app = Flask(__name__)\n",
    "\n",
    "# allow cross origin requests from any domain\n",
    "from flask_cors import CORS\n",
    "CORS(app)\n",
    "\n",
    "@app.route('/get_similar_games', methods=['GET'])\n",
    "def get_similar_games():\n",
    "    query = request.args.get('query')\n",
    "    out = cursor.query(f\"\"\"\n",
    "    SELECT * FROM games ORDER BY Similarity(EmbedText('{query}'), EmbedText(full_desc)) LIMIT 05;\n",
    "    \"\"\").df()\n",
    "    return jsonify(out.to_dict(orient=\"records\"))\n",
    "\n",
    "app.run(host=\"localhost\", port=5000)\n",
    "\n",
    "# this can be accessed as follows: http://localhost:5000/get_similar_games?query=fast-paced%20action%20game"
   ]
  }
 ],
 "metadata": {
  "kernelspec": {
   "display_name": "steam-games-mWAKNGq7-py3.10",
   "language": "python",
   "name": "python3"
  },
  "language_info": {
   "codemirror_mode": {
    "name": "ipython",
    "version": 3
   },
   "file_extension": ".py",
   "mimetype": "text/x-python",
   "name": "python",
   "nbconvert_exporter": "python",
   "pygments_lexer": "ipython3",
   "version": "3.10.12"
  }
 },
 "nbformat": 4,
 "nbformat_minor": 2
}
