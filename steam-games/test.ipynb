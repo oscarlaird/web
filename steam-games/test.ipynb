{
 "cells": [
  {
   "cell_type": "code",
   "execution_count": 5,
   "metadata": {},
   "outputs": [
    {
     "data": {
      "text/html": [
       "<div>\n",
       "<style scoped>\n",
       "    .dataframe tbody tr th:only-of-type {\n",
       "        vertical-align: middle;\n",
       "    }\n",
       "\n",
       "    .dataframe tbody tr th {\n",
       "        vertical-align: top;\n",
       "    }\n",
       "\n",
       "    .dataframe thead th {\n",
       "        text-align: right;\n",
       "    }\n",
       "</style>\n",
       "<table border=\"1\" class=\"dataframe\">\n",
       "  <thead>\n",
       "    <tr style=\"text-align: right;\">\n",
       "      <th></th>\n",
       "      <th>name</th>\n",
       "      <th>img_url</th>\n",
       "      <th>date</th>\n",
       "      <th>developer</th>\n",
       "      <th>full_desc</th>\n",
       "      <th>price</th>\n",
       "      <th>url_info</th>\n",
       "    </tr>\n",
       "  </thead>\n",
       "  <tbody>\n",
       "    <tr>\n",
       "      <th>0</th>\n",
       "      <td>Among Us</td>\n",
       "      <td>https://steamcdn-a.akamaihd.net/steam/apps/945...</td>\n",
       "      <td>Nov 16, 2018</td>\n",
       "      <td>Innersloth</td>\n",
       "      <td>About This Game Play with 4-10 player online o...</td>\n",
       "      <td>499</td>\n",
       "      <td>https://store.steampowered.com/app/945360/Amon...</td>\n",
       "    </tr>\n",
       "    <tr>\n",
       "      <th>1</th>\n",
       "      <td>Counter-Strike: Global Offensive</td>\n",
       "      <td>https://steamcdn-a.akamaihd.net/steam/apps/730...</td>\n",
       "      <td>Aug 21, 2012</td>\n",
       "      <td>Valve, Hidden Path Entertainment</td>\n",
       "      <td>About This Game Counter-Strike: Global Offensi...</td>\n",
       "      <td>free</td>\n",
       "      <td>https://store.steampowered.com/app/730/Counter...</td>\n",
       "    </tr>\n",
       "    <tr>\n",
       "      <th>2</th>\n",
       "      <td>Fall Guys: Ultimate Knockout</td>\n",
       "      <td>https://steamcdn-a.akamaihd.net/steam/apps/109...</td>\n",
       "      <td>Aug 3, 2020</td>\n",
       "      <td>Mediatonic</td>\n",
       "      <td>About This Game Fall Guys: Ultimate Knockout f...</td>\n",
       "      <td>199</td>\n",
       "      <td>https://store.steampowered.com/app/1097150/Fal...</td>\n",
       "    </tr>\n",
       "    <tr>\n",
       "      <th>3</th>\n",
       "      <td>Crusader Kings III</td>\n",
       "      <td>https://steamcdn-a.akamaihd.net/steam/apps/115...</td>\n",
       "      <td>Sep 1, 2020</td>\n",
       "      <td>Paradox Development Studio</td>\n",
       "      <td>About This Game Paradox Development Studio bri...</td>\n",
       "      <td>499</td>\n",
       "      <td>https://store.steampowered.com/app/1158310/Cru...</td>\n",
       "    </tr>\n",
       "    <tr>\n",
       "      <th>4</th>\n",
       "      <td>Destiny 2</td>\n",
       "      <td>https://steamcdn-a.akamaihd.net/steam/apps/108...</td>\n",
       "      <td>Oct 1, 2019</td>\n",
       "      <td>Bungie</td>\n",
       "      <td>About This Game Dive into the world of Destiny...</td>\n",
       "      <td>free</td>\n",
       "      <td>https://store.steampowered.com/app/1085660/Des...</td>\n",
       "    </tr>\n",
       "  </tbody>\n",
       "</table>\n",
       "</div>"
      ],
      "text/plain": [
       "                               name  \\\n",
       "0                          Among Us   \n",
       "1  Counter-Strike: Global Offensive   \n",
       "2      Fall Guys: Ultimate Knockout   \n",
       "3                Crusader Kings III   \n",
       "4                         Destiny 2   \n",
       "\n",
       "                                             img_url          date  \\\n",
       "0  https://steamcdn-a.akamaihd.net/steam/apps/945...  Nov 16, 2018   \n",
       "1  https://steamcdn-a.akamaihd.net/steam/apps/730...  Aug 21, 2012   \n",
       "2  https://steamcdn-a.akamaihd.net/steam/apps/109...   Aug 3, 2020   \n",
       "3  https://steamcdn-a.akamaihd.net/steam/apps/115...   Sep 1, 2020   \n",
       "4  https://steamcdn-a.akamaihd.net/steam/apps/108...   Oct 1, 2019   \n",
       "\n",
       "                          developer  \\\n",
       "0                        Innersloth   \n",
       "1  Valve, Hidden Path Entertainment   \n",
       "2                        Mediatonic   \n",
       "3        Paradox Development Studio   \n",
       "4                            Bungie   \n",
       "\n",
       "                                           full_desc price  \\\n",
       "0  About This Game Play with 4-10 player online o...   499   \n",
       "1  About This Game Counter-Strike: Global Offensi...  free   \n",
       "2  About This Game Fall Guys: Ultimate Knockout f...   199   \n",
       "3  About This Game Paradox Development Studio bri...   499   \n",
       "4  About This Game Dive into the world of Destiny...  free   \n",
       "\n",
       "                                            url_info  \n",
       "0  https://store.steampowered.com/app/945360/Amon...  \n",
       "1  https://store.steampowered.com/app/730/Counter...  \n",
       "2  https://store.steampowered.com/app/1097150/Fal...  \n",
       "3  https://store.steampowered.com/app/1158310/Cru...  \n",
       "4  https://store.steampowered.com/app/1085660/Des...  "
      ]
     },
     "execution_count": 5,
     "metadata": {},
     "output_type": "execute_result"
    }
   ],
   "source": [
    "# load games.db and show it in a dataframe\n",
    "import sqlite3\n",
    "import pandas as pd\n",
    "\n",
    "conn = sqlite3.connect('games.db')\n",
    "c = conn.cursor()\n",
    "\n",
    "df = pd.read_sql_query(\"SELECT * FROM games\", conn)\n",
    "df.head()"
   ]
  },
  {
   "cell_type": "code",
   "execution_count": 7,
   "metadata": {},
   "outputs": [
    {
     "data": {
      "text/plain": [
       "'https://steamcdn-a.akamaihd.net/steam/apps/945360/header.jpg?t=1598556351'"
      ]
     },
     "execution_count": 7,
     "metadata": {},
     "output_type": "execute_result"
    }
   ],
   "source": [
    "# first image url\n",
    "df['img_url'][0]"
   ]
  }
 ],
 "metadata": {
  "kernelspec": {
   "display_name": "Python 3",
   "language": "python",
   "name": "python3"
  },
  "language_info": {
   "codemirror_mode": {
    "name": "ipython",
    "version": 3
   },
   "file_extension": ".py",
   "mimetype": "text/x-python",
   "name": "python",
   "nbconvert_exporter": "python",
   "pygments_lexer": "ipython3",
   "version": "3.11.0rc1"
  }
 },
 "nbformat": 4,
 "nbformat_minor": 2
}
