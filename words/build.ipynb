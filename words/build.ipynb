{
 "cells": [
  {
   "cell_type": "code",
   "execution_count": 1,
   "metadata": {},
   "outputs": [
    {
     "name": "stderr",
     "output_type": "stream",
     "text": [
      "/home/oscar/.cache/pypoetry/virtualenvs/words-Cdd64V6x-py3.10/lib/python3.10/site-packages/tqdm/auto.py:21: TqdmWarning: IProgress not found. Please update jupyter and ipywidgets. See https://ipywidgets.readthedocs.io/en/stable/user_install.html\n",
      "  from .autonotebook import tqdm as notebook_tqdm\n",
      "/home/oscar/.cache/pypoetry/virtualenvs/words-Cdd64V6x-py3.10/lib/python3.10/site-packages/torch/cuda/__init__.py:138: UserWarning: CUDA initialization: CUDA unknown error - this may be due to an incorrectly set up environment, e.g. changing env variable CUDA_VISIBLE_DEVICES after program start. Setting the available devices to be zero. (Triggered internally at ../c10/cuda/CUDAFunctions.cpp:108.)\n",
      "  return torch._C._cuda_getDeviceCount() > 0\n"
     ]
    },
    {
     "name": "stdout",
     "output_type": "stream",
     "text": [
      "(1, 384)\n"
     ]
    }
   ],
   "source": [
    "import sentence_transformers  # dependency for sentence_feature_extractor.py\n",
    "# check that we can use sentence_transformers\n",
    "print(sentence_transformers.SentenceTransformer('all-MiniLM-L6-v2').encode(['hello world']).shape)\n",
    "# import openai  # dependency for chatgpt.py\n",
    "import evadb\n",
    "cursor = evadb.connect(evadb_dir=(\"./eva_db\")).cursor()"
   ]
  },
  {
   "cell_type": "code",
   "execution_count": 2,
   "metadata": {},
   "outputs": [
    {
     "name": "stderr",
     "output_type": "stream",
     "text": [
      "11-19-2023 00:19:15 WARNING[drop_object_executor:drop_object_executor.py:_handle_drop_function:0086] Function EmbedText does not exist, therefore cannot be dropped.\n"
     ]
    },
    {
     "data": {
      "text/html": [
       "<div>\n",
       "<style scoped>\n",
       "    .dataframe tbody tr th:only-of-type {\n",
       "        vertical-align: middle;\n",
       "    }\n",
       "\n",
       "    .dataframe tbody tr th {\n",
       "        vertical-align: top;\n",
       "    }\n",
       "\n",
       "    .dataframe thead th {\n",
       "        text-align: right;\n",
       "    }\n",
       "</style>\n",
       "<table border=\"1\" class=\"dataframe\">\n",
       "  <thead>\n",
       "    <tr style=\"text-align: right;\">\n",
       "      <th></th>\n",
       "      <th>features</th>\n",
       "    </tr>\n",
       "  </thead>\n",
       "  <tbody>\n",
       "    <tr>\n",
       "      <th>0</th>\n",
       "      <td>[[-0.03447732, 0.031023178, 0.0067349477, 0.02...</td>\n",
       "    </tr>\n",
       "  </tbody>\n",
       "</table>\n",
       "</div>"
      ],
      "text/plain": [
       "                                            features\n",
       "0  [[-0.03447732, 0.031023178, 0.0067349477, 0.02..."
      ]
     },
     "execution_count": 2,
     "metadata": {},
     "output_type": "execute_result"
    }
   ],
   "source": [
    "# Register the function as embed text\n",
    "cursor.query(\"\"\"\n",
    "DROP FUNCTION IF EXISTS EmbedText\n",
    "\"\"\").df()\n",
    "cursor.query(\"\"\"\n",
    "CREATE FUNCTION EmbedText IMPL './sentence_feature_extractor.py'\n",
    "\"\"\").df()\n",
    "cursor.query(\"\"\"\n",
    "SELECT EmbedText('hello world')\n",
    "\"\"\").df()"
   ]
  },
  {
   "cell_type": "code",
   "execution_count": 4,
   "metadata": {},
   "outputs": [
    {
     "data": {
      "text/html": [
       "<div>\n",
       "<style scoped>\n",
       "    .dataframe tbody tr th:only-of-type {\n",
       "        vertical-align: middle;\n",
       "    }\n",
       "\n",
       "    .dataframe tbody tr th {\n",
       "        vertical-align: top;\n",
       "    }\n",
       "\n",
       "    .dataframe thead th {\n",
       "        text-align: right;\n",
       "    }\n",
       "</style>\n",
       "<table border=\"1\" class=\"dataframe\">\n",
       "  <thead>\n",
       "    <tr style=\"text-align: right;\">\n",
       "      <th></th>\n",
       "    </tr>\n",
       "  </thead>\n",
       "  <tbody>\n",
       "  </tbody>\n",
       "</table>\n",
       "</div>"
      ],
      "text/plain": [
       "Empty DataFrame\n",
       "Columns: []\n",
       "Index: []"
      ]
     },
     "execution_count": 4,
     "metadata": {},
     "output_type": "execute_result"
    }
   ],
   "source": [
    "cursor.query(\"\"\"\n",
    "DROP TABLE IF EXISTS words\n",
    "\"\"\").df()\n",
    "cursor.query(\"\"\"\n",
    "CREATE TABLE words (\n",
    "            word TEXT(0)\n",
    "            )\"\"\"\n",
    ").df()\n",
    "cursor.query(\"\"\"\n",
    "SELECT * FROM words\n",
    "\"\"\").df()\n"
   ]
  },
  {
   "cell_type": "code",
   "execution_count": null,
   "metadata": {},
   "outputs": [],
   "source": [
    "# iterate thru ./top_english_words_lower_50000.txt\n",
    "\n",
    "from pathlib import Path\n",
    "full_text = Path('./top_english_words_lower_50000.txt').read_text()\n",
    "words = full_text.split('\\n')\n",
    "print(words[:10])\n",
    "\n",
    "from tqdm import tqdm   \n",
    "\n",
    "for word in tqdm(words):\n",
    "    bad_chars = '{}-;:\"\\''\n",
    "    bad_chars_translation = str.maketrans(dict.fromkeys(bad_chars, ''))\n",
    "    word = word.translate(bad_chars_translation)\n",
    "    print(word)\n",
    "    cursor.query(f\"\"\"\n",
    "    INSERT INTO words (word) VALUES ('{word}')\n",
    "    \"\"\").df()"
   ]
  },
  {
   "cell_type": "code",
   "execution_count": 11,
   "metadata": {},
   "outputs": [
    {
     "data": {
      "text/html": [
       "<div>\n",
       "<style scoped>\n",
       "    .dataframe tbody tr th:only-of-type {\n",
       "        vertical-align: middle;\n",
       "    }\n",
       "\n",
       "    .dataframe tbody tr th {\n",
       "        vertical-align: top;\n",
       "    }\n",
       "\n",
       "    .dataframe thead th {\n",
       "        text-align: right;\n",
       "    }\n",
       "</style>\n",
       "<table border=\"1\" class=\"dataframe\">\n",
       "  <thead>\n",
       "    <tr style=\"text-align: right;\">\n",
       "      <th></th>\n",
       "      <th>_row_id</th>\n",
       "      <th>word</th>\n",
       "    </tr>\n",
       "  </thead>\n",
       "  <tbody>\n",
       "    <tr>\n",
       "      <th>0</th>\n",
       "      <td>1</td>\n",
       "      <td>the</td>\n",
       "    </tr>\n",
       "    <tr>\n",
       "      <th>1</th>\n",
       "      <td>2</td>\n",
       "      <td>of</td>\n",
       "    </tr>\n",
       "    <tr>\n",
       "      <th>2</th>\n",
       "      <td>3</td>\n",
       "      <td>and</td>\n",
       "    </tr>\n",
       "    <tr>\n",
       "      <th>3</th>\n",
       "      <td>4</td>\n",
       "      <td>to</td>\n",
       "    </tr>\n",
       "    <tr>\n",
       "      <th>4</th>\n",
       "      <td>5</td>\n",
       "      <td>in</td>\n",
       "    </tr>\n",
       "    <tr>\n",
       "      <th>...</th>\n",
       "      <td>...</td>\n",
       "      <td>...</td>\n",
       "    </tr>\n",
       "    <tr>\n",
       "      <th>51581</th>\n",
       "      <td>51582</td>\n",
       "      <td>auth</td>\n",
       "    </tr>\n",
       "    <tr>\n",
       "      <th>51582</th>\n",
       "      <td>51583</td>\n",
       "      <td>quelled</td>\n",
       "    </tr>\n",
       "    <tr>\n",
       "      <th>51583</th>\n",
       "      <td>51584</td>\n",
       "      <td>splinting</td>\n",
       "    </tr>\n",
       "    <tr>\n",
       "      <th>51584</th>\n",
       "      <td>51585</td>\n",
       "      <td>empyema</td>\n",
       "    </tr>\n",
       "    <tr>\n",
       "      <th>51585</th>\n",
       "      <td>51586</td>\n",
       "      <td></td>\n",
       "    </tr>\n",
       "  </tbody>\n",
       "</table>\n",
       "<p>51586 rows × 2 columns</p>\n",
       "</div>"
      ],
      "text/plain": [
       "       _row_id       word\n",
       "0            1        the\n",
       "1            2         of\n",
       "2            3        and\n",
       "3            4         to\n",
       "4            5         in\n",
       "...        ...        ...\n",
       "51581    51582       auth\n",
       "51582    51583    quelled\n",
       "51583    51584  splinting\n",
       "51584    51585    empyema\n",
       "51585    51586           \n",
       "\n",
       "[51586 rows x 2 columns]"
      ]
     },
     "execution_count": 11,
     "metadata": {},
     "output_type": "execute_result"
    }
   ],
   "source": [
    "# check that the words are in the table\n",
    "cursor.query(\"\"\"\n",
    "SELECT * FROM words\n",
    "\"\"\").df()"
   ]
  },
  {
   "cell_type": "code",
   "execution_count": 12,
   "metadata": {},
   "outputs": [
    {
     "name": "stderr",
     "output_type": "stream",
     "text": [
      "11-19-2023 01:01:50 WARNING[drop_object_executor:drop_object_executor.py:_handle_drop_index:0113] Index words_vector_idx does not exist, therefore cannot be dropped.\n",
      "/home/oscar/.cache/pypoetry/virtualenvs/words-Cdd64V6x-py3.10/lib/python3.10/site-packages/sentence_transformers/SentenceTransformer.py:157: FutureWarning: Series.__getitem__ treating keys as positions is deprecated. In a future version, integer keys will always be treated as labels (consistent with DataFrame behavior). To access a value by position, use `ser.iloc[pos]`\n",
      "  sentences_sorted = [sentences[idx] for idx in length_sorted_idx]\n"
     ]
    },
    {
     "data": {
      "text/html": [
       "<div>\n",
       "<style scoped>\n",
       "    .dataframe tbody tr th:only-of-type {\n",
       "        vertical-align: middle;\n",
       "    }\n",
       "\n",
       "    .dataframe tbody tr th {\n",
       "        vertical-align: top;\n",
       "    }\n",
       "\n",
       "    .dataframe thead th {\n",
       "        text-align: right;\n",
       "    }\n",
       "</style>\n",
       "<table border=\"1\" class=\"dataframe\">\n",
       "  <thead>\n",
       "    <tr style=\"text-align: right;\">\n",
       "      <th></th>\n",
       "      <th>0</th>\n",
       "    </tr>\n",
       "  </thead>\n",
       "  <tbody>\n",
       "    <tr>\n",
       "      <th>0</th>\n",
       "      <td>Index words_vector_idx successfully added to t...</td>\n",
       "    </tr>\n",
       "  </tbody>\n",
       "</table>\n",
       "</div>"
      ],
      "text/plain": [
       "                                                   0\n",
       "0  Index words_vector_idx successfully added to t..."
      ]
     },
     "execution_count": 12,
     "metadata": {},
     "output_type": "execute_result"
    }
   ],
   "source": [
    "# create a vector index using faiss\n",
    "# this should take about 10m to run.\n",
    "cursor.query(\"\"\"\n",
    "DROP INDEX IF EXISTS words_vector_idx\n",
    "\"\"\").df()\n",
    "cursor.query(\"\"\"\n",
    "CREATE INDEX words_vector_idx\n",
    "ON words (EmbedText(words.word))\n",
    "USING FAISS\n",
    "\"\"\").df()"
   ]
  },
  {
   "cell_type": "code",
   "execution_count": 16,
   "metadata": {},
   "outputs": [
    {
     "data": {
      "text/html": [
       "<div>\n",
       "<style scoped>\n",
       "    .dataframe tbody tr th:only-of-type {\n",
       "        vertical-align: middle;\n",
       "    }\n",
       "\n",
       "    .dataframe tbody tr th {\n",
       "        vertical-align: top;\n",
       "    }\n",
       "\n",
       "    .dataframe thead th {\n",
       "        text-align: right;\n",
       "    }\n",
       "</style>\n",
       "<table border=\"1\" class=\"dataframe\">\n",
       "  <thead>\n",
       "    <tr style=\"text-align: right;\">\n",
       "      <th></th>\n",
       "      <th>_row_id</th>\n",
       "      <th>word</th>\n",
       "    </tr>\n",
       "  </thead>\n",
       "  <tbody>\n",
       "    <tr>\n",
       "      <th>0</th>\n",
       "      <td>4523</td>\n",
       "      <td>joy</td>\n",
       "    </tr>\n",
       "    <tr>\n",
       "      <th>1</th>\n",
       "      <td>16767</td>\n",
       "      <td>joys</td>\n",
       "    </tr>\n",
       "    <tr>\n",
       "      <th>2</th>\n",
       "      <td>18096</td>\n",
       "      <td>joyful</td>\n",
       "    </tr>\n",
       "    <tr>\n",
       "      <th>3</th>\n",
       "      <td>18967</td>\n",
       "      <td>joyous</td>\n",
       "    </tr>\n",
       "    <tr>\n",
       "      <th>4</th>\n",
       "      <td>44434</td>\n",
       "      <td>joyously</td>\n",
       "    </tr>\n",
       "    <tr>\n",
       "      <th>5</th>\n",
       "      <td>30361</td>\n",
       "      <td>joyfully</td>\n",
       "    </tr>\n",
       "    <tr>\n",
       "      <th>6</th>\n",
       "      <td>14178</td>\n",
       "      <td>happier</td>\n",
       "    </tr>\n",
       "    <tr>\n",
       "      <th>7</th>\n",
       "      <td>7077</td>\n",
       "      <td>delight</td>\n",
       "    </tr>\n",
       "    <tr>\n",
       "      <th>8</th>\n",
       "      <td>7147</td>\n",
       "      <td>smiling</td>\n",
       "    </tr>\n",
       "    <tr>\n",
       "      <th>9</th>\n",
       "      <td>3190</td>\n",
       "      <td>happy</td>\n",
       "    </tr>\n",
       "    <tr>\n",
       "      <th>10</th>\n",
       "      <td>49681</td>\n",
       "      <td>delighting</td>\n",
       "    </tr>\n",
       "    <tr>\n",
       "      <th>11</th>\n",
       "      <td>4894</td>\n",
       "      <td>happiness</td>\n",
       "    </tr>\n",
       "    <tr>\n",
       "      <th>12</th>\n",
       "      <td>18398</td>\n",
       "      <td>thrilled</td>\n",
       "    </tr>\n",
       "    <tr>\n",
       "      <th>13</th>\n",
       "      <td>18422</td>\n",
       "      <td>grinning</td>\n",
       "    </tr>\n",
       "    <tr>\n",
       "      <th>14</th>\n",
       "      <td>15001</td>\n",
       "      <td>triumphant</td>\n",
       "    </tr>\n",
       "  </tbody>\n",
       "</table>\n",
       "</div>"
      ],
      "text/plain": [
       "    _row_id        word\n",
       "0      4523         joy\n",
       "1     16767        joys\n",
       "2     18096      joyful\n",
       "3     18967      joyous\n",
       "4     44434    joyously\n",
       "5     30361    joyfully\n",
       "6     14178     happier\n",
       "7      7077     delight\n",
       "8      7147     smiling\n",
       "9      3190       happy\n",
       "10    49681  delighting\n",
       "11     4894   happiness\n",
       "12    18398    thrilled\n",
       "13    18422    grinning\n",
       "14    15001  triumphant"
      ]
     },
     "execution_count": 16,
     "metadata": {},
     "output_type": "execute_result"
    }
   ],
   "source": [
    "test_query = \"Joy\"\n",
    "cursor.query(f\"\"\"\n",
    "SELECT * FROM words ORDER BY Similarity(EmbedText('{test_query}'), EmbedText(word)) LIMIT 15;\n",
    "\"\"\").df()"
   ]
  },
  {
   "cell_type": "code",
   "execution_count": 17,
   "metadata": {},
   "outputs": [
    {
     "name": "stdout",
     "output_type": "stream",
     "text": [
      " * Serving Flask app '__main__'\n",
      " * Debug mode: off\n"
     ]
    },
    {
     "name": "stderr",
     "output_type": "stream",
     "text": [
      "\u001b[31m\u001b[1mWARNING: This is a development server. Do not use it in a production deployment. Use a production WSGI server instead.\u001b[0m\n",
      " * Running on http://localhost:5002\n",
      "\u001b[33mPress CTRL+C to quit\u001b[0m\n",
      "127.0.0.1 - - [19/Nov/2023 01:09:31] \"\u001b[33mGET / HTTP/1.1\u001b[0m\" 404 -\n",
      "127.0.0.1 - - [19/Nov/2023 01:09:31] \"\u001b[33mGET /favicon.ico HTTP/1.1\u001b[0m\" 404 -\n",
      "127.0.0.1 - - [19/Nov/2023 01:09:47] \"GET /get_similar_words?query=joy HTTP/1.1\" 200 -\n",
      "127.0.0.1 - - [19/Nov/2023 01:09:53] \"GET /get_similar_words?query=joy HTTP/1.1\" 200 -\n",
      "127.0.0.1 - - [19/Nov/2023 01:09:58] \"GET /get_similar_words?query=joy HTTP/1.1\" 200 -\n",
      "127.0.0.1 - - [19/Nov/2023 01:10:09] \"GET /get_similar_words?query=bad HTTP/1.1\" 200 -\n",
      "127.0.0.1 - - [19/Nov/2023 01:11:07] \"GET /get_similar_words?query=undefined HTTP/1.1\" 200 -\n",
      "127.0.0.1 - - [19/Nov/2023 01:11:09] \"GET /get_similar_words?query=undefined HTTP/1.1\" 200 -\n",
      "127.0.0.1 - - [19/Nov/2023 01:11:44] \"GET /get_similar_words?query=joy HTTP/1.1\" 200 -\n",
      "127.0.0.1 - - [19/Nov/2023 01:12:05] \"GET /get_similar_words?query=smiling HTTP/1.1\" 200 -\n",
      "127.0.0.1 - - [19/Nov/2023 01:12:12] \"GET /get_similar_words?query=grinning HTTP/1.1\" 200 -\n",
      "127.0.0.1 - - [19/Nov/2023 01:14:52] \"GET /get_similar_words?query=joy HTTP/1.1\" 200 -\n",
      "127.0.0.1 - - [19/Nov/2023 01:14:54] \"GET /get_similar_words?query=joy HTTP/1.1\" 200 -\n",
      "127.0.0.1 - - [19/Nov/2023 01:15:01] \"GET /get_similar_words?query=smiling HTTP/1.1\" 200 -\n",
      "127.0.0.1 - - [19/Nov/2023 01:15:09] \"GET /get_similar_words?query=grinning HTTP/1.1\" 200 -\n",
      "127.0.0.1 - - [19/Nov/2023 01:15:19] \"GET /get_similar_words?query=smirk HTTP/1.1\" 200 -\n",
      "127.0.0.1 - - [19/Nov/2023 01:15:43] \"GET /get_similar_words?query=undefined HTTP/1.1\" 200 -\n",
      "127.0.0.1 - - [19/Nov/2023 01:15:49] \"GET /get_similar_words?query=joy HTTP/1.1\" 200 -\n",
      "127.0.0.1 - - [19/Nov/2023 01:16:00] \"GET /get_similar_words?query=smiling HTTP/1.1\" 200 -\n",
      "127.0.0.1 - - [19/Nov/2023 01:16:05] \"GET /get_similar_words?query=grinning HTTP/1.1\" 200 -\n",
      "127.0.0.1 - - [19/Nov/2023 01:16:11] \"GET /get_similar_words?query=smirk HTTP/1.1\" 200 -\n",
      "127.0.0.1 - - [19/Nov/2023 01:26:11] \"GET /get_similar_words?query=undefined HTTP/1.1\" 200 -\n",
      "127.0.0.1 - - [19/Nov/2023 01:26:15] \"GET /get_similar_words?query=undefined HTTP/1.1\" 200 -\n",
      "127.0.0.1 - - [19/Nov/2023 01:27:14] \"GET /get_similar_words?query=undefined HTTP/1.1\" 200 -\n",
      "127.0.0.1 - - [19/Nov/2023 01:35:48] \"GET /get_similar_words?query=mockery HTTP/1.1\" 200 -\n",
      "127.0.0.1 - - [19/Nov/2023 01:35:52] \"GET /get_similar_words?query=mockery HTTP/1.1\" 200 -\n"
     ]
    }
   ],
   "source": [
    "# create a simple flask endpoint to serve the five most similar games\n",
    "from flask import Flask, request, jsonify\n",
    "app = Flask(__name__)\n",
    "\n",
    "# allow cross origin requests from any domain\n",
    "from flask_cors import CORS\n",
    "CORS(app)\n",
    "\n",
    "@app.route('/get_similar_words', methods=['GET'])\n",
    "def get_similar_games():\n",
    "    query = request.args.get('query')\n",
    "    out = cursor.query(f\"\"\"\n",
    "    SELECT * FROM words ORDER BY Similarity(EmbedText('{query}'), EmbedText(word)) LIMIT 15;\n",
    "    \"\"\").df()\n",
    "    out_recs = out.to_dict(orient=\"records\")\n",
    "    # replace every url with https with https: (BC EVADB) doesn't let me insert w/ ?\n",
    "    return jsonify(out_recs)\n",
    "\n",
    "app.run(host=\"localhost\", port=5002)\n",
    "\n",
    "# this can be accessed as follows: http://localhost:5000/get_similar_games?query=fast-paced%20action%20game"
   ]
  }
 ],
 "metadata": {
  "kernelspec": {
   "display_name": "words-Cdd64V6x-py3.10",
   "language": "python",
   "name": "python3"
  },
  "language_info": {
   "codemirror_mode": {
    "name": "ipython",
    "version": 3
   },
   "file_extension": ".py",
   "mimetype": "text/x-python",
   "name": "python",
   "nbconvert_exporter": "python",
   "pygments_lexer": "ipython3",
   "version": "3.10.12"
  }
 },
 "nbformat": 4,
 "nbformat_minor": 2
}
