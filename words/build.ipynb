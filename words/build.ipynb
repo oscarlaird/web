{
 "cells": [
  {
   "cell_type": "code",
   "execution_count": 1,
   "metadata": {},
   "outputs": [
    {
     "name": "stderr",
     "output_type": "stream",
     "text": [
      "/home/oscar/.cache/pypoetry/virtualenvs/words-Cdd64V6x-py3.10/lib/python3.10/site-packages/tqdm/auto.py:21: TqdmWarning: IProgress not found. Please update jupyter and ipywidgets. See https://ipywidgets.readthedocs.io/en/stable/user_install.html\n",
      "  from .autonotebook import tqdm as notebook_tqdm\n",
      "/home/oscar/.cache/pypoetry/virtualenvs/words-Cdd64V6x-py3.10/lib/python3.10/site-packages/torch/cuda/__init__.py:138: UserWarning: CUDA initialization: CUDA unknown error - this may be due to an incorrectly set up environment, e.g. changing env variable CUDA_VISIBLE_DEVICES after program start. Setting the available devices to be zero. (Triggered internally at ../c10/cuda/CUDAFunctions.cpp:108.)\n",
      "  return torch._C._cuda_getDeviceCount() > 0\n"
     ]
    },
    {
     "name": "stdout",
     "output_type": "stream",
     "text": [
      "(1, 384)\n"
     ]
    }
   ],
   "source": [
    "import sentence_transformers  # dependency for sentence_feature_extractor.py\n",
    "# check that we can use sentence_transformers\n",
    "print(sentence_transformers.SentenceTransformer('all-MiniLM-L6-v2').encode(['hello world']).shape)\n",
    "# import openai  # dependency for chatgpt.py\n",
    "import evadb\n",
    "cursor = evadb.connect(evadb_dir=(\"./eva_db\")).cursor()"
   ]
  },
  {
   "cell_type": "code",
   "execution_count": 2,
   "metadata": {},
   "outputs": [
    {
     "name": "stderr",
     "output_type": "stream",
     "text": [
      "11-19-2023 00:19:15 WARNING[drop_object_executor:drop_object_executor.py:_handle_drop_function:0086] Function EmbedText does not exist, therefore cannot be dropped.\n"
     ]
    },
    {
     "data": {
      "text/html": [
       "<div>\n",
       "<style scoped>\n",
       "    .dataframe tbody tr th:only-of-type {\n",
       "        vertical-align: middle;\n",
       "    }\n",
       "\n",
       "    .dataframe tbody tr th {\n",
       "        vertical-align: top;\n",
       "    }\n",
       "\n",
       "    .dataframe thead th {\n",
       "        text-align: right;\n",
       "    }\n",
       "</style>\n",
       "<table border=\"1\" class=\"dataframe\">\n",
       "  <thead>\n",
       "    <tr style=\"text-align: right;\">\n",
       "      <th></th>\n",
       "      <th>features</th>\n",
       "    </tr>\n",
       "  </thead>\n",
       "  <tbody>\n",
       "    <tr>\n",
       "      <th>0</th>\n",
       "      <td>[[-0.03447732, 0.031023178, 0.0067349477, 0.02...</td>\n",
       "    </tr>\n",
       "  </tbody>\n",
       "</table>\n",
       "</div>"
      ],
      "text/plain": [
       "                                            features\n",
       "0  [[-0.03447732, 0.031023178, 0.0067349477, 0.02..."
      ]
     },
     "execution_count": 2,
     "metadata": {},
     "output_type": "execute_result"
    }
   ],
   "source": [
    "# Register the function as embed text\n",
    "cursor.query(\"\"\"\n",
    "DROP FUNCTION IF EXISTS EmbedText\n",
    "\"\"\").df()\n",
    "cursor.query(\"\"\"\n",
    "CREATE FUNCTION EmbedText IMPL './sentence_feature_extractor.py'\n",
    "\"\"\").df()\n",
    "cursor.query(\"\"\"\n",
    "SELECT EmbedText('hello world')\n",
    "\"\"\").df()"
   ]
  },
  {
   "cell_type": "code",
   "execution_count": 4,
   "metadata": {},
   "outputs": [
    {
     "data": {
      "text/html": [
       "<div>\n",
       "<style scoped>\n",
       "    .dataframe tbody tr th:only-of-type {\n",
       "        vertical-align: middle;\n",
       "    }\n",
       "\n",
       "    .dataframe tbody tr th {\n",
       "        vertical-align: top;\n",
       "    }\n",
       "\n",
       "    .dataframe thead th {\n",
       "        text-align: right;\n",
       "    }\n",
       "</style>\n",
       "<table border=\"1\" class=\"dataframe\">\n",
       "  <thead>\n",
       "    <tr style=\"text-align: right;\">\n",
       "      <th></th>\n",
       "    </tr>\n",
       "  </thead>\n",
       "  <tbody>\n",
       "  </tbody>\n",
       "</table>\n",
       "</div>"
      ],
      "text/plain": [
       "Empty DataFrame\n",
       "Columns: []\n",
       "Index: []"
      ]
     },
     "execution_count": 4,
     "metadata": {},
     "output_type": "execute_result"
    }
   ],
   "source": [
    "cursor.query(\"\"\"\n",
    "DROP TABLE IF EXISTS words\n",
    "\"\"\").df()\n",
    "cursor.query(\"\"\"\n",
    "CREATE TABLE words (\n",
    "            word TEXT(0)\n",
    "            )\"\"\"\n",
    ").df()\n",
    "cursor.query(\"\"\"\n",
    "SELECT * FROM words\n",
    "\"\"\").df()\n"
   ]
  },
  {
   "cell_type": "code",
   "execution_count": null,
   "metadata": {},
   "outputs": [],
   "source": [
    "# iterate thru ./top_english_words_lower_50000.txt\n",
    "\n",
    "from pathlib import Path\n",
    "full_text = Path('./top_english_words_lower_50000.txt').read_text()\n",
    "words = full_text.split('\\n')\n",
    "print(words[:10])\n",
    "\n",
    "from tqdm import tqdm   \n",
    "\n",
    "for word in tqdm(words):\n",
    "    bad_chars = '{}-;:\"\\''\n",
    "    bad_chars_translation = str.maketrans(dict.fromkeys(bad_chars, ''))\n",
    "    word = word.translate(bad_chars_translation)\n",
    "    print(word)\n",
    "    cursor.query(f\"\"\"\n",
    "    INSERT INTO words (word) VALUES ('{word}')\n",
    "    \"\"\").df()"
   ]
  },
  {
   "cell_type": "code",
   "execution_count": 2,
   "metadata": {},
   "outputs": [
    {
     "data": {
      "text/html": [
       "<div>\n",
       "<style scoped>\n",
       "    .dataframe tbody tr th:only-of-type {\n",
       "        vertical-align: middle;\n",
       "    }\n",
       "\n",
       "    .dataframe tbody tr th {\n",
       "        vertical-align: top;\n",
       "    }\n",
       "\n",
       "    .dataframe thead th {\n",
       "        text-align: right;\n",
       "    }\n",
       "</style>\n",
       "<table border=\"1\" class=\"dataframe\">\n",
       "  <thead>\n",
       "    <tr style=\"text-align: right;\">\n",
       "      <th></th>\n",
       "      <th>_row_id</th>\n",
       "      <th>word</th>\n",
       "    </tr>\n",
       "  </thead>\n",
       "  <tbody>\n",
       "    <tr>\n",
       "      <th>0</th>\n",
       "      <td>1</td>\n",
       "      <td>the</td>\n",
       "    </tr>\n",
       "    <tr>\n",
       "      <th>1</th>\n",
       "      <td>2</td>\n",
       "      <td>of</td>\n",
       "    </tr>\n",
       "    <tr>\n",
       "      <th>2</th>\n",
       "      <td>3</td>\n",
       "      <td>and</td>\n",
       "    </tr>\n",
       "    <tr>\n",
       "      <th>3</th>\n",
       "      <td>4</td>\n",
       "      <td>to</td>\n",
       "    </tr>\n",
       "    <tr>\n",
       "      <th>4</th>\n",
       "      <td>5</td>\n",
       "      <td>in</td>\n",
       "    </tr>\n",
       "    <tr>\n",
       "      <th>...</th>\n",
       "      <td>...</td>\n",
       "      <td>...</td>\n",
       "    </tr>\n",
       "    <tr>\n",
       "      <th>51581</th>\n",
       "      <td>51582</td>\n",
       "      <td>auth</td>\n",
       "    </tr>\n",
       "    <tr>\n",
       "      <th>51582</th>\n",
       "      <td>51583</td>\n",
       "      <td>quelled</td>\n",
       "    </tr>\n",
       "    <tr>\n",
       "      <th>51583</th>\n",
       "      <td>51584</td>\n",
       "      <td>splinting</td>\n",
       "    </tr>\n",
       "    <tr>\n",
       "      <th>51584</th>\n",
       "      <td>51585</td>\n",
       "      <td>empyema</td>\n",
       "    </tr>\n",
       "    <tr>\n",
       "      <th>51585</th>\n",
       "      <td>51586</td>\n",
       "      <td></td>\n",
       "    </tr>\n",
       "  </tbody>\n",
       "</table>\n",
       "<p>51586 rows × 2 columns</p>\n",
       "</div>"
      ],
      "text/plain": [
       "       _row_id       word\n",
       "0            1        the\n",
       "1            2         of\n",
       "2            3        and\n",
       "3            4         to\n",
       "4            5         in\n",
       "...        ...        ...\n",
       "51581    51582       auth\n",
       "51582    51583    quelled\n",
       "51583    51584  splinting\n",
       "51584    51585    empyema\n",
       "51585    51586           \n",
       "\n",
       "[51586 rows x 2 columns]"
      ]
     },
     "execution_count": 2,
     "metadata": {},
     "output_type": "execute_result"
    }
   ],
   "source": [
    "# check that the words are in the table\n",
    "cursor.query(\"\"\"\n",
    "SELECT * FROM words\n",
    "\"\"\").df()"
   ]
  },
  {
   "cell_type": "code",
   "execution_count": 10,
   "metadata": {},
   "outputs": [
    {
     "name": "stderr",
     "output_type": "stream",
     "text": [
      "11-22-2023 20:41:42 WARNING[drop_object_executor:drop_object_executor.py:_handle_drop_index:0113] Index words_vector_idx does not exist, therefore cannot be dropped.\n",
      "/home/oscar/.cache/pypoetry/virtualenvs/words-Cdd64V6x-py3.10/lib/python3.10/site-packages/sentence_transformers/SentenceTransformer.py:157: FutureWarning: Series.__getitem__ treating keys as positions is deprecated. In a future version, integer keys will always be treated as labels (consistent with DataFrame behavior). To access a value by position, use `ser.iloc[pos]`\n",
      "  sentences_sorted = [sentences[idx] for idx in length_sorted_idx]\n"
     ]
    },
    {
     "data": {
      "text/html": [
       "<div>\n",
       "<style scoped>\n",
       "    .dataframe tbody tr th:only-of-type {\n",
       "        vertical-align: middle;\n",
       "    }\n",
       "\n",
       "    .dataframe tbody tr th {\n",
       "        vertical-align: top;\n",
       "    }\n",
       "\n",
       "    .dataframe thead th {\n",
       "        text-align: right;\n",
       "    }\n",
       "</style>\n",
       "<table border=\"1\" class=\"dataframe\">\n",
       "  <thead>\n",
       "    <tr style=\"text-align: right;\">\n",
       "      <th></th>\n",
       "      <th>0</th>\n",
       "    </tr>\n",
       "  </thead>\n",
       "  <tbody>\n",
       "    <tr>\n",
       "      <th>0</th>\n",
       "      <td>Index words_vector_idx successfully added to t...</td>\n",
       "    </tr>\n",
       "  </tbody>\n",
       "</table>\n",
       "</div>"
      ],
      "text/plain": [
       "                                                   0\n",
       "0  Index words_vector_idx successfully added to t..."
      ]
     },
     "execution_count": 10,
     "metadata": {},
     "output_type": "execute_result"
    }
   ],
   "source": [
    "# create a vector index using faiss\n",
    "# this should take about 10m to run.\n",
    "cursor.query(\"\"\"\n",
    "DROP INDEX IF EXISTS words_vector_idx\n",
    "\"\"\").df()\n",
    "cursor.query(\"\"\"\n",
    "CREATE INDEX words_vector_idx\n",
    "ON words (EmbedText(words.word))\n",
    "USING FAISS\n",
    "\"\"\").df()"
   ]
  },
  {
   "cell_type": "code",
   "execution_count": 3,
   "metadata": {},
   "outputs": [
    {
     "name": "stderr",
     "output_type": "stream",
     "text": [
      "/home/oscar/.cache/pypoetry/virtualenvs/words-Cdd64V6x-py3.10/lib/python3.10/site-packages/sentence_transformers/SentenceTransformer.py:157: FutureWarning: Series.__getitem__ treating keys as positions is deprecated. In a future version, integer keys will always be treated as labels (consistent with DataFrame behavior). To access a value by position, use `ser.iloc[pos]`\n",
      "  sentences_sorted = [sentences[idx] for idx in length_sorted_idx]\n"
     ]
    },
    {
     "data": {
      "text/html": [
       "<div>\n",
       "<style scoped>\n",
       "    .dataframe tbody tr th:only-of-type {\n",
       "        vertical-align: middle;\n",
       "    }\n",
       "\n",
       "    .dataframe tbody tr th {\n",
       "        vertical-align: top;\n",
       "    }\n",
       "\n",
       "    .dataframe thead th {\n",
       "        text-align: right;\n",
       "    }\n",
       "</style>\n",
       "<table border=\"1\" class=\"dataframe\">\n",
       "  <thead>\n",
       "    <tr style=\"text-align: right;\">\n",
       "      <th></th>\n",
       "      <th>features</th>\n",
       "    </tr>\n",
       "  </thead>\n",
       "  <tbody>\n",
       "    <tr>\n",
       "      <th>0</th>\n",
       "      <td>[[-0.047473814, 0.07417954, -0.046912633, 0.04...</td>\n",
       "    </tr>\n",
       "    <tr>\n",
       "      <th>1</th>\n",
       "      <td>[[-0.048946433, 0.017024904, 0.0192541, 0.0421...</td>\n",
       "    </tr>\n",
       "    <tr>\n",
       "      <th>2</th>\n",
       "      <td>[[-0.06581226, 0.048192814, 0.03048122, 0.0248...</td>\n",
       "    </tr>\n",
       "    <tr>\n",
       "      <th>3</th>\n",
       "      <td>[[-0.021957867, 0.042924915, -0.041306958, 0.0...</td>\n",
       "    </tr>\n",
       "    <tr>\n",
       "      <th>4</th>\n",
       "      <td>[[-0.006681391, 0.0052218996, -0.0401461, 0.02...</td>\n",
       "    </tr>\n",
       "    <tr>\n",
       "      <th>...</th>\n",
       "      <td>...</td>\n",
       "    </tr>\n",
       "    <tr>\n",
       "      <th>51581</th>\n",
       "      <td>[[-0.058257163, 0.06376873, -0.113152884, -0.0...</td>\n",
       "    </tr>\n",
       "    <tr>\n",
       "      <th>51582</th>\n",
       "      <td>[[-0.058739588, -0.0023282839, -0.0433384, 0.0...</td>\n",
       "    </tr>\n",
       "    <tr>\n",
       "      <th>51583</th>\n",
       "      <td>[[-0.047309257, -0.056698933, -0.009764805, 0....</td>\n",
       "    </tr>\n",
       "    <tr>\n",
       "      <th>51584</th>\n",
       "      <td>[[-0.053118195, -0.008547983, 0.052530404, 0.0...</td>\n",
       "    </tr>\n",
       "    <tr>\n",
       "      <th>51585</th>\n",
       "      <td>[[-0.11883838, 0.04829865, -0.0025480753, -0.0...</td>\n",
       "    </tr>\n",
       "  </tbody>\n",
       "</table>\n",
       "<p>51586 rows × 1 columns</p>\n",
       "</div>"
      ],
      "text/plain": [
       "                                                features\n",
       "0      [[-0.047473814, 0.07417954, -0.046912633, 0.04...\n",
       "1      [[-0.048946433, 0.017024904, 0.0192541, 0.0421...\n",
       "2      [[-0.06581226, 0.048192814, 0.03048122, 0.0248...\n",
       "3      [[-0.021957867, 0.042924915, -0.041306958, 0.0...\n",
       "4      [[-0.006681391, 0.0052218996, -0.0401461, 0.02...\n",
       "...                                                  ...\n",
       "51581  [[-0.058257163, 0.06376873, -0.113152884, -0.0...\n",
       "51582  [[-0.058739588, -0.0023282839, -0.0433384, 0.0...\n",
       "51583  [[-0.047309257, -0.056698933, -0.009764805, 0....\n",
       "51584  [[-0.053118195, -0.008547983, 0.052530404, 0.0...\n",
       "51585  [[-0.11883838, 0.04829865, -0.0025480753, -0.0...\n",
       "\n",
       "[51586 rows x 1 columns]"
      ]
     },
     "execution_count": 3,
     "metadata": {},
     "output_type": "execute_result"
    }
   ],
   "source": [
    "features = cursor.query(\"\"\" SELECT EmbedText(words.word) FROM words \"\"\").df()\n",
    "features"
   ]
  },
  {
   "cell_type": "code",
   "execution_count": 16,
   "metadata": {},
   "outputs": [
    {
     "data": {
      "text/plain": [
       "-0.047473814"
      ]
     },
     "execution_count": 16,
     "metadata": {},
     "output_type": "execute_result"
    }
   ],
   "source": [
    "features['features'][0][0][0]"
   ]
  },
  {
   "cell_type": "code",
   "execution_count": 26,
   "metadata": {},
   "outputs": [
    {
     "data": {
      "text/plain": [
       "array([[-0.04747381,  0.07417954, -0.04691263, ...,  0.08421466,\n",
       "         0.07241768,  0.09963789],\n",
       "       [-0.04894643,  0.0170249 ,  0.0192541 , ...,  0.02739874,\n",
       "         0.02628225,  0.05707146],\n",
       "       [-0.06581226,  0.04819281,  0.03048122, ...,  0.00842909,\n",
       "         0.11183214, -0.06755178],\n",
       "       ...,\n",
       "       [-0.04730926, -0.05669893, -0.00976481, ..., -0.02384533,\n",
       "         0.03095684,  0.03388943],\n",
       "       [-0.0531182 , -0.00854798,  0.0525304 , ...,  0.07888456,\n",
       "         0.07785661, -0.00965249],\n",
       "       [-0.11883838,  0.04829865, -0.00254808, ...,  0.12640947,\n",
       "         0.04654906, -0.01571728]], dtype=float32)"
      ]
     },
     "execution_count": 26,
     "metadata": {},
     "output_type": "execute_result"
    }
   ],
   "source": [
    "# convert dataframe to 50k x 768 numpy array\n",
    "import numpy as np\n",
    "f = np.array(features)\n",
    "f.shape\n",
    "f = np.empty((len(features), 384), dtype=np.float32)\n",
    "for i, row in enumerate(features['features']):\n",
    "    f[i] = row[0]\n",
    "f"
   ]
  },
  {
   "cell_type": "code",
   "execution_count": 27,
   "metadata": {},
   "outputs": [
    {
     "data": {
      "text/plain": [
       "51586"
      ]
     },
     "execution_count": 27,
     "metadata": {},
     "output_type": "execute_result"
    }
   ],
   "source": [
    "import faiss\n",
    "index = faiss.IndexFlatL2(384)\n",
    "index.add(f)\n",
    "index.ntotal"
   ]
  },
  {
   "cell_type": "code",
   "execution_count": 12,
   "metadata": {},
   "outputs": [
    {
     "data": {
      "text/html": [
       "<div>\n",
       "<style scoped>\n",
       "    .dataframe tbody tr th:only-of-type {\n",
       "        vertical-align: middle;\n",
       "    }\n",
       "\n",
       "    .dataframe tbody tr th {\n",
       "        vertical-align: top;\n",
       "    }\n",
       "\n",
       "    .dataframe thead th {\n",
       "        text-align: right;\n",
       "    }\n",
       "</style>\n",
       "<table border=\"1\" class=\"dataframe\">\n",
       "  <thead>\n",
       "    <tr style=\"text-align: right;\">\n",
       "      <th></th>\n",
       "      <th>_row_id</th>\n",
       "      <th>word</th>\n",
       "    </tr>\n",
       "  </thead>\n",
       "  <tbody>\n",
       "    <tr>\n",
       "      <th>0</th>\n",
       "      <td>4523</td>\n",
       "      <td>joy</td>\n",
       "    </tr>\n",
       "    <tr>\n",
       "      <th>1</th>\n",
       "      <td>16767</td>\n",
       "      <td>joys</td>\n",
       "    </tr>\n",
       "    <tr>\n",
       "      <th>2</th>\n",
       "      <td>18096</td>\n",
       "      <td>joyful</td>\n",
       "    </tr>\n",
       "    <tr>\n",
       "      <th>3</th>\n",
       "      <td>18967</td>\n",
       "      <td>joyous</td>\n",
       "    </tr>\n",
       "    <tr>\n",
       "      <th>4</th>\n",
       "      <td>44434</td>\n",
       "      <td>joyously</td>\n",
       "    </tr>\n",
       "    <tr>\n",
       "      <th>5</th>\n",
       "      <td>30361</td>\n",
       "      <td>joyfully</td>\n",
       "    </tr>\n",
       "    <tr>\n",
       "      <th>6</th>\n",
       "      <td>14178</td>\n",
       "      <td>happier</td>\n",
       "    </tr>\n",
       "    <tr>\n",
       "      <th>7</th>\n",
       "      <td>7077</td>\n",
       "      <td>delight</td>\n",
       "    </tr>\n",
       "    <tr>\n",
       "      <th>8</th>\n",
       "      <td>7147</td>\n",
       "      <td>smiling</td>\n",
       "    </tr>\n",
       "    <tr>\n",
       "      <th>9</th>\n",
       "      <td>3190</td>\n",
       "      <td>happy</td>\n",
       "    </tr>\n",
       "    <tr>\n",
       "      <th>10</th>\n",
       "      <td>49681</td>\n",
       "      <td>delighting</td>\n",
       "    </tr>\n",
       "    <tr>\n",
       "      <th>11</th>\n",
       "      <td>4894</td>\n",
       "      <td>happiness</td>\n",
       "    </tr>\n",
       "    <tr>\n",
       "      <th>12</th>\n",
       "      <td>18398</td>\n",
       "      <td>thrilled</td>\n",
       "    </tr>\n",
       "    <tr>\n",
       "      <th>13</th>\n",
       "      <td>18422</td>\n",
       "      <td>grinning</td>\n",
       "    </tr>\n",
       "    <tr>\n",
       "      <th>14</th>\n",
       "      <td>15001</td>\n",
       "      <td>triumphant</td>\n",
       "    </tr>\n",
       "  </tbody>\n",
       "</table>\n",
       "</div>"
      ],
      "text/plain": [
       "    _row_id        word\n",
       "0      4523         joy\n",
       "1     16767        joys\n",
       "2     18096      joyful\n",
       "3     18967      joyous\n",
       "4     44434    joyously\n",
       "5     30361    joyfully\n",
       "6     14178     happier\n",
       "7      7077     delight\n",
       "8      7147     smiling\n",
       "9      3190       happy\n",
       "10    49681  delighting\n",
       "11     4894   happiness\n",
       "12    18398    thrilled\n",
       "13    18422    grinning\n",
       "14    15001  triumphant"
      ]
     },
     "execution_count": 12,
     "metadata": {},
     "output_type": "execute_result"
    }
   ],
   "source": [
    "test_query = \"Joy\"\n",
    "cursor.query(f\"\"\"\n",
    "SELECT * FROM words ORDER BY Similarity(EmbedText('{test_query}'), EmbedText(word)) LIMIT 15;\n",
    "\"\"\").df()"
   ]
  },
  {
   "cell_type": "code",
   "execution_count": 28,
   "metadata": {},
   "outputs": [
    {
     "name": "stdout",
     "output_type": "stream",
     "text": [
      " * Serving Flask app '__main__'\n",
      " * Debug mode: off\n"
     ]
    },
    {
     "name": "stderr",
     "output_type": "stream",
     "text": [
      "\u001b[31m\u001b[1mWARNING: This is a development server. Do not use it in a production deployment. Use a production WSGI server instead.\u001b[0m\n",
      " * Running on http://localhost:5002\n",
      "\u001b[33mPress CTRL+C to quit\u001b[0m\n",
      "127.0.0.1 - - [30/Nov/2023 16:42:07] \"GET /get_similar_words?query=undefined HTTP/1.1\" 200 -\n"
     ]
    },
    {
     "name": "stdout",
     "output_type": "stream",
     "text": [
      "time elapsed: 0.015700340270996094\n"
     ]
    },
    {
     "name": "stderr",
     "output_type": "stream",
     "text": [
      "127.0.0.1 - - [30/Nov/2023 16:42:10] \"GET /get_similar_words?query=error HTTP/1.1\" 200 -\n"
     ]
    },
    {
     "name": "stdout",
     "output_type": "stream",
     "text": [
      "time elapsed: 0.03468179702758789\n"
     ]
    },
    {
     "name": "stderr",
     "output_type": "stream",
     "text": [
      "127.0.0.1 - - [30/Nov/2023 16:42:17] \"GET /get_similar_words?query=big%20data%20analytics HTTP/1.1\" 200 -\n"
     ]
    },
    {
     "name": "stdout",
     "output_type": "stream",
     "text": [
      "time elapsed: 0.0358891487121582\n"
     ]
    },
    {
     "name": "stderr",
     "output_type": "stream",
     "text": [
      "127.0.0.1 - - [30/Nov/2023 16:42:22] \"GET /get_similar_words?query=statistics HTTP/1.1\" 200 -\n"
     ]
    },
    {
     "name": "stdout",
     "output_type": "stream",
     "text": [
      "time elapsed: 0.03531765937805176\n"
     ]
    },
    {
     "name": "stderr",
     "output_type": "stream",
     "text": [
      "127.0.0.1 - - [30/Nov/2023 16:42:25] \"GET /get_similar_words?query=quantitative HTTP/1.1\" 200 -\n"
     ]
    },
    {
     "name": "stdout",
     "output_type": "stream",
     "text": [
      "time elapsed: 0.035012245178222656\n"
     ]
    },
    {
     "name": "stderr",
     "output_type": "stream",
     "text": [
      "127.0.0.1 - - [30/Nov/2023 16:42:41] \"GET /get_similar_words?query=consciousness HTTP/1.1\" 200 -\n"
     ]
    },
    {
     "name": "stdout",
     "output_type": "stream",
     "text": [
      "time elapsed: 0.01527714729309082\n"
     ]
    },
    {
     "name": "stderr",
     "output_type": "stream",
     "text": [
      "127.0.0.1 - - [30/Nov/2023 16:42:48] \"GET /get_similar_words?query=lifeless HTTP/1.1\" 200 -\n"
     ]
    },
    {
     "name": "stdout",
     "output_type": "stream",
     "text": [
      "time elapsed: 0.03672456741333008\n"
     ]
    },
    {
     "name": "stderr",
     "output_type": "stream",
     "text": [
      "127.0.0.1 - - [30/Nov/2023 16:42:54] \"GET /get_similar_words?query=joy HTTP/1.1\" 200 -\n"
     ]
    },
    {
     "name": "stdout",
     "output_type": "stream",
     "text": [
      "time elapsed: 0.035091400146484375\n"
     ]
    },
    {
     "name": "stderr",
     "output_type": "stream",
     "text": [
      "127.0.0.1 - - [30/Nov/2023 16:42:57] \"GET /get_similar_words?query=happy HTTP/1.1\" 200 -\n"
     ]
    },
    {
     "name": "stdout",
     "output_type": "stream",
     "text": [
      "time elapsed: 0.015532493591308594\n"
     ]
    },
    {
     "name": "stderr",
     "output_type": "stream",
     "text": [
      "127.0.0.1 - - [30/Nov/2023 16:42:59] \"GET /get_similar_words?query=delighted HTTP/1.1\" 200 -\n"
     ]
    },
    {
     "name": "stdout",
     "output_type": "stream",
     "text": [
      "time elapsed: 0.01808333396911621\n"
     ]
    },
    {
     "name": "stderr",
     "output_type": "stream",
     "text": [
      "127.0.0.1 - - [30/Nov/2023 16:43:02] \"GET /get_similar_words?query=splendid HTTP/1.1\" 200 -\n"
     ]
    },
    {
     "name": "stdout",
     "output_type": "stream",
     "text": [
      "time elapsed: 0.016788482666015625\n"
     ]
    },
    {
     "name": "stderr",
     "output_type": "stream",
     "text": [
      "127.0.0.1 - - [30/Nov/2023 16:43:04] \"GET /get_similar_words?query=terrific HTTP/1.1\" 200 -\n"
     ]
    },
    {
     "name": "stdout",
     "output_type": "stream",
     "text": [
      "time elapsed: 0.035004615783691406\n"
     ]
    },
    {
     "name": "stderr",
     "output_type": "stream",
     "text": [
      "127.0.0.1 - - [30/Nov/2023 16:43:07] \"GET /get_similar_words?query=tremendous HTTP/1.1\" 200 -\n"
     ]
    },
    {
     "name": "stdout",
     "output_type": "stream",
     "text": [
      "time elapsed: 0.03505539894104004\n"
     ]
    },
    {
     "name": "stderr",
     "output_type": "stream",
     "text": [
      "127.0.0.1 - - [30/Nov/2023 16:43:09] \"GET /get_similar_words?query=immense HTTP/1.1\" 200 -\n"
     ]
    },
    {
     "name": "stdout",
     "output_type": "stream",
     "text": [
      "time elapsed: 0.03487849235534668\n"
     ]
    },
    {
     "name": "stderr",
     "output_type": "stream",
     "text": [
      "127.0.0.1 - - [30/Nov/2023 16:43:11] \"GET /get_similar_words?query=gigantic HTTP/1.1\" 200 -\n"
     ]
    },
    {
     "name": "stdout",
     "output_type": "stream",
     "text": [
      "time elapsed: 0.034863948822021484\n"
     ]
    },
    {
     "name": "stderr",
     "output_type": "stream",
     "text": [
      "127.0.0.1 - - [30/Nov/2023 17:05:25] \"GET /get_similar_words?query=undefined HTTP/1.1\" 200 -\n"
     ]
    },
    {
     "name": "stdout",
     "output_type": "stream",
     "text": [
      "time elapsed: 0.04597210884094238\n"
     ]
    },
    {
     "name": "stderr",
     "output_type": "stream",
     "text": [
      "127.0.0.1 - - [30/Nov/2023 17:05:28] \"GET /get_similar_words?query=unresolved HTTP/1.1\" 200 -\n"
     ]
    },
    {
     "name": "stdout",
     "output_type": "stream",
     "text": [
      "time elapsed: 0.04896235466003418\n"
     ]
    },
    {
     "name": "stderr",
     "output_type": "stream",
     "text": [
      "127.0.0.1 - - [30/Nov/2023 17:05:31] \"GET /get_similar_words?query=undiscovered HTTP/1.1\" 200 -\n"
     ]
    },
    {
     "name": "stdout",
     "output_type": "stream",
     "text": [
      "time elapsed: 0.05558514595031738\n"
     ]
    },
    {
     "name": "stderr",
     "output_type": "stream",
     "text": [
      "127.0.0.1 - - [30/Nov/2023 17:05:34] \"GET /get_similar_words?query=unexplored HTTP/1.1\" 200 -\n"
     ]
    },
    {
     "name": "stdout",
     "output_type": "stream",
     "text": [
      "time elapsed: 0.10011839866638184\n"
     ]
    },
    {
     "name": "stderr",
     "output_type": "stream",
     "text": [
      "127.0.0.1 - - [30/Nov/2023 17:51:39] \"GET /get_similar_words?query=machine%20learning HTTP/1.1\" 200 -\n"
     ]
    },
    {
     "name": "stdout",
     "output_type": "stream",
     "text": [
      "time elapsed: 0.05974292755126953\n"
     ]
    }
   ],
   "source": [
    "# create a simple flask endpoint to serve the five most similar games\n",
    "from flask import Flask, request, jsonify\n",
    "app = Flask(__name__)\n",
    "import sqlite3\n",
    "# allow cross origin requests from any domain\n",
    "from flask_cors import CORS\n",
    "CORS(app)\n",
    "import sentence_transformers\n",
    "model = sentence_transformers.SentenceTransformer('all-MiniLM-L6-v2')\n",
    "import time\n",
    "\n",
    "@app.route('/get_similar_words', methods=['GET'])\n",
    "def get_similar_professors():\n",
    "    start = time.time()\n",
    "    cursor2 = sqlite3.connect('./eva_db/evadb.db').cursor()\n",
    "    query = request.args.get('query')\n",
    "    query_vec = model.encode([query])  # Make sure this returns a 2D numpy array\n",
    "    k = 15  # Define the number of results you want\n",
    "    D, I = index.search(query_vec, k)\n",
    "    I = I.squeeze()\n",
    "    row_ids = [id + 1 for id in I]\n",
    "\n",
    "    # Use SQLAlchemy to execute raw SQL\n",
    "    # result = db.session.execute(sqlalchemy.text('SELECT name FROM profs WHERE rowid IN ({})'.format(','.join([str(i) for i in row_ids]))))\n",
    "    result = cursor2.execute('SELECT _row_id, * FROM words WHERE rowid IN ({})'.format(','.join([str(i) for i in row_ids]))).fetchall()\n",
    "    # map result to dict w/ fields name, research_profile, img_src, href\n",
    "    result = [{'_row_id': r[0], 'word': r[1]} for r in result]\n",
    "    # sort the result by the index at which res._row_id - 1 appears in I, the sorted indices by faiss\n",
    "    result = sorted(result, key=lambda res: I.tolist().index(res['_row_id'] - 1))\n",
    "    cursor2.connection.close()\n",
    "    print('time elapsed: {}'.format(time.time() - start))\n",
    "    return jsonify(result)\n",
    "\n",
    "\n",
    "app.run(host=\"localhost\", port=5002)\n",
    "\n",
    "# this can be accessed as follows: http://localhost:5000/get_similar_games?query=fast-paced%20action%20game"
   ]
  }
 ],
 "metadata": {
  "kernelspec": {
   "display_name": "words-Cdd64V6x-py3.10",
   "language": "python",
   "name": "python3"
  },
  "language_info": {
   "codemirror_mode": {
    "name": "ipython",
    "version": 3
   },
   "file_extension": ".py",
   "mimetype": "text/x-python",
   "name": "python",
   "nbconvert_exporter": "python",
   "pygments_lexer": "ipython3",
   "version": "3.10.12"
  }
 },
 "nbformat": 4,
 "nbformat_minor": 2
}
